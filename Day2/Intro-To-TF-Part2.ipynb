{
 "cells": [
  {
   "cell_type": "markdown",
   "metadata": {},
   "source": [
    "### Introduction To TensorFlow (Part-2)"
   ]
  },
  {
   "cell_type": "markdown",
   "metadata": {},
   "source": [
    "<p>In the last tutorial [Introduction To TensorFlow (Part-1)](https://github.com/Praneet460/MLCC/tree/master/Day1), we see how can we create our first tensor using TensorFlow library, and perform simple mathematical operations on it.</p>\n",
    "<p>Now, today we move a step forward and see how we can perform large matrix operations by creating tensor using TensorFlow library.</p> \n",
    "<p> But first, let's print <b>```Hello, TensorFlow```</b> using TF program."
   ]
  },
  {
   "cell_type": "code",
   "execution_count": 4,
   "metadata": {},
   "outputs": [
    {
     "name": "stdout",
     "output_type": "stream",
     "text": [
      "b'Hello, TensorFlow'\n"
     ]
    }
   ],
   "source": [
    "# Import required library\n",
    "import tensorflow as tf\n",
    "# Define a hello tensor as a tf.constant\n",
    "hello = tf.constant(\"Hello, TensorFlow\", name=\"hello\")\n",
    "\n",
    "with tf.Session():\n",
    "    print(hello.eval()) # Shorthand for session.run(hello)"
   ]
  },
  {
   "cell_type": "markdown",
   "metadata": {},
   "source": [
    "#### 1. Matrix Operations"
   ]
  },
  {
   "cell_type": "markdown",
   "metadata": {},
   "source": [
    "<p>Matrix operations are very important for machine learning models, like linear regression, as they are often used in them. TensorFlow supports all the most common matrix operations, like <b>multiplication</b>, <b>transposing</b>, <b>inversion</b>, calculating the <b>determinant</b>, solving linear equations, and many more.\n",
    "<p>We will see some of the matrix operations in below code.</p>"
   ]
  },
  {
   "cell_type": "markdown",
   "metadata": {},
   "source": [
    "##### 1.1 Sum of Matrices"
   ]
  },
  {
   "cell_type": "code",
   "execution_count": 12,
   "metadata": {},
   "outputs": [
    {
     "name": "stdout",
     "output_type": "stream",
     "text": [
      "Tensor(\"matrix_sum_6:0\", shape=(2, 2), dtype=int32)\n",
      "\n",
      "\n",
      "Matrix Sum:\n",
      "  [[6 6]\n",
      " [7 9]]\n"
     ]
    }
   ],
   "source": [
    "# declare two matrices\n",
    "matrix_1 = tf.constant([[5, 6], [7, 8]], name=\"matrix_1\")\n",
    "matrix_2 = tf.constant([[1, 0], [0, 1]], name=\"matrix_2\")\n",
    "\n",
    "# add two matrices\n",
    "matrix_sum = tf.add(matrix_1, matrix_2, name=\"matrix_sum\")\n",
    "\n",
    "print(matrix_sum)\n",
    "print(\"\\n\")\n",
    "\n",
    "with tf.Session():\n",
    "    print(\"Matrix Sum:\\n \",matrix_sum.eval()) # Shorthand of session.run(matrix_sum)"
   ]
  },
  {
   "cell_type": "markdown",
   "metadata": {},
   "source": [
    "By performing the print operation we see the <i>shape of the matrix as (2, 2) i.e. matrix of two rows and two columns</i>"
   ]
  },
  {
   "cell_type": "markdown",
   "metadata": {},
   "source": [
    "##### 1.2 Matrix Substraction"
   ]
  },
  {
   "cell_type": "code",
   "execution_count": 13,
   "metadata": {},
   "outputs": [
    {
     "name": "stdout",
     "output_type": "stream",
     "text": [
      "Tensor(\"matrix_subtract:0\", shape=(2, 2), dtype=int32)\n",
      "\n",
      "\n",
      "Matrix Substraction:\n",
      "  [[4 6]\n",
      " [7 7]]\n"
     ]
    }
   ],
   "source": [
    "# subtract two matrices\n",
    "matrix_subtract = tf.subtract(matrix_1, matrix_2, name = \"matrix_subtract\")\n",
    "print(matrix_subtract)\n",
    "print(\"\\n\")\n",
    "with tf.Session():\n",
    "    print(\"Matrix Substraction:\\n \", matrix_subtract.eval())"
   ]
  },
  {
   "cell_type": "markdown",
   "metadata": {},
   "source": [
    "##### 1.3 Matrix Multiplication"
   ]
  },
  {
   "cell_type": "code",
   "execution_count": 14,
   "metadata": {},
   "outputs": [
    {
     "name": "stdout",
     "output_type": "stream",
     "text": [
      "Tensor(\"matrix_multiply:0\", shape=(2, 2), dtype=int32)\n",
      "\n",
      "\n",
      "Matrix Multiplication:\n",
      " [[5 0]\n",
      " [0 8]]\n"
     ]
    }
   ],
   "source": [
    "# multiply two matrices\n",
    "matrix_multiply = tf.multiply(matrix_1, matrix_2, name=\"matrix_multiply\")\n",
    "print(matrix_multiply)\n",
    "print(\"\\n\")\n",
    "with tf.Session():\n",
    "    print(\"Matrix Multiplication:\\n\", matrix_multiply.eval())"
   ]
  },
  {
   "cell_type": "markdown",
   "metadata": {},
   "source": [
    "##### 1.4 Other Operations"
   ]
  },
  {
   "cell_type": "markdown",
   "metadata": {},
   "source": [
    "<p> We can also build a tensor in TensorFlow, by building an n-dimensional array, using the <i>NumPy library</i>.</p>"
   ]
  },
  {
   "cell_type": "markdown",
   "metadata": {},
   "source": [
    "<img src=\"./toptal-blog-image-1511963425442-3f44d6949afc736c80540aaa8f3010fe.png\", width=600px/>"
   ]
  },
  {
   "cell_type": "markdown",
   "metadata": {},
   "source": [
    "```np.array(np.random.rand(4, 4), dtype=\"float32```\n",
    "<p> Creates an array of specified shape (here we choose (4, 4) i.e. matrix of four rows and four columns), and fills it with random values. The dtype of these random values can be choosen by the developer (here we used float variables).</p>"
   ]
  },
  {
   "cell_type": "code",
   "execution_count": 20,
   "metadata": {},
   "outputs": [
    {
     "name": "stdout",
     "output_type": "stream",
     "text": [
      "tensor_2d =\n",
      " [[0.11920644 0.7550982  0.6791422  0.41581902]\n",
      " [0.36568004 0.19756505 0.220721   0.08595876]\n",
      " [0.45731547 0.1548773  0.03565873 0.02815709]\n",
      " [0.36635143 0.11288738 0.43894848 0.74810207]]\n",
      "\n",
      "\n",
      "tensor_2d_1 =\n",
      " [[0.7587125  0.19331373 0.6435785  0.76103866]\n",
      " [0.4123982  0.3973685  0.976724   0.7035937 ]\n",
      " [0.5915644  0.33679217 0.6569344  0.32364166]\n",
      " [0.38803604 0.576142   0.02967241 0.17566836]]\n",
      "\n",
      "\n",
      "tensor_2d_2 =\n",
      " [[0.11746022 0.4262721  0.8788701  0.00318821]\n",
      " [0.0456277  0.19591506 0.7493873  0.11783394]\n",
      " [0.90628    0.68860847 0.3683893  0.10217901]\n",
      " [0.64972097 0.30042702 0.81009877 0.66797537]]\n"
     ]
    }
   ],
   "source": [
    "# Import the required library\n",
    "import numpy as np\n",
    "\n",
    "# Creating a 2-d tensor, or matrix\n",
    "tensor_2d = np.array(np.random.rand(4, 4), dtype=\"float32\")\n",
    "tensor_2d_1 = np.array(np.random.rand(4, 4), dtype=\"float32\")\n",
    "tensor_2d_2 = np.array(np.random.rand(4, 4), dtype=\"float32\")\n",
    "\n",
    "\n",
    "# look out the matrices\n",
    "print(\"tensor_2d =\\n\", tensor_2d)\n",
    "print(\"\\n\")\n",
    "print(\"tensor_2d_1 =\\n\", tensor_2d_1)\n",
    "print(\"\\n\")\n",
    "print(\"tensor_2d_2 =\\n\", tensor_2d_2)"
   ]
  },
  {
   "cell_type": "markdown",
   "metadata": {},
   "source": [
    "<p>A NumPy array generated above can be easily converted into a TensorFlow tensor with the auxiliary function <b><i>convert_to_tensor</i></b>, which helps developers convert Python objects to tensor objects. The signature of the convert_to_tensorflow is:</p>\n",
    "<b>tf.convert_to_tensor(value, dtype=None, name=None, preferred_dtype=None)</b>"
   ]
  },
  {
   "cell_type": "code",
   "execution_count": 22,
   "metadata": {},
   "outputs": [
    {
     "name": "stdout",
     "output_type": "stream",
     "text": [
      "mat_1:\n",
      " Tensor(\"Const_9:0\", shape=(4, 4), dtype=float32)\n",
      "mat_2:\n",
      " Tensor(\"Const_10:0\", shape=(4, 4), dtype=float32)\n",
      "mat_3:\n",
      " Tensor(\"Const_11:0\", shape=(4, 4), dtype=float32)\n"
     ]
    }
   ],
   "source": [
    "# converting the array into tensor\n",
    "mat_1 = tf.convert_to_tensor(tensor_2d)\n",
    "mat_2 = tf.convert_to_tensor(tensor_2d_1)\n",
    "mat_3 = tf.convert_to_tensor(tensor_2d_2)\n",
    "\n",
    "print(\"mat_1:\\n\", mat_1)\n",
    "print(\"mat_2:\\n\", mat_2)\n",
    "print(\"mat_3:\\n\", mat_3)"
   ]
  },
  {
   "cell_type": "code",
   "execution_count": 23,
   "metadata": {},
   "outputs": [
    {
     "name": "stdout",
     "output_type": "stream",
     "text": [
      "[[0.11920644 0.36568004 0.45731547 0.36635143]\n",
      " [0.7550982  0.19756505 0.1548773  0.11288738]\n",
      " [0.6791422  0.220721   0.03565873 0.43894848]\n",
      " [0.41581902 0.08595876 0.02815709 0.74810207]]\n"
     ]
    }
   ],
   "source": [
    "# transpose of the matrix\n",
    "mat_transpose = tf.transpose(mat_1)\n",
    "with tf.Session():\n",
    "    print(mat_transpose.eval())"
   ]
  },
  {
   "cell_type": "code",
   "execution_count": 25,
   "metadata": {},
   "outputs": [
    {
     "name": "stdout",
     "output_type": "stream",
     "text": [
      "[[0.96495366 0.7913971  1.2727315  0.91484797]\n",
      " [0.52284724 0.27305865 0.5758602  0.50383687]\n",
      " [0.44286248 0.17818078 0.46985173 0.47349244]\n",
      " [0.8744668  0.6945261  0.6565941  0.63171434]]\n"
     ]
    }
   ],
   "source": [
    "# matrix multiplication\n",
    "mat_multiply = tf.matmul(mat_1, mat_2)\n",
    "with tf.Session():\n",
    "    print(mat_multiply.eval())"
   ]
  },
  {
   "cell_type": "code",
   "execution_count": 26,
   "metadata": {},
   "outputs": [
    {
     "name": "stdout",
     "output_type": "stream",
     "text": [
      "0.023240166\n"
     ]
    }
   ],
   "source": [
    "# Matrix determinant\n",
    "mat_determinant = tf.matrix_determinant(mat_3)\n",
    "with tf.Session():\n",
    "    print(mat_determinant.eval())"
   ]
  },
  {
   "cell_type": "code",
   "execution_count": 28,
   "metadata": {},
   "outputs": [
    {
     "name": "stdout",
     "output_type": "stream",
     "text": [
      "[[-10.198283   13.177279    3.811304   -2.8588665]\n",
      " [ 14.550245  -19.489485   -3.728444    3.9389222]\n",
      " [ -4.5888186   7.7404647   1.3121408  -1.5442678]\n",
      " [  8.94067   -13.439011   -3.6215744   4.379078 ]]\n"
     ]
    }
   ],
   "source": [
    "# Matrix inverse\n",
    "mat_inverse = tf.matrix_inverse(mat_3)\n",
    "with tf.Session():\n",
    "    print(mat_inverse.eval())"
   ]
  },
  {
   "cell_type": "code",
   "execution_count": 29,
   "metadata": {},
   "outputs": [
    {
     "name": "stdout",
     "output_type": "stream",
     "text": [
      "[[ 3.931435 ]\n",
      " [-4.7287626]\n",
      " [ 2.9195197]\n",
      " [-3.7408376]]\n"
     ]
    }
   ],
   "source": [
    "# Matrix solve\n",
    "mat_solve = tf.matrix_solve(mat_3, [[1], [1], [1], [1]])\n",
    "with tf.Session():\n",
    "    print(mat_solve.eval())"
   ]
  },
  {
   "cell_type": "markdown",
   "metadata": {},
   "source": [
    "##### 1.5 Sequential Operations\n",
    "<p>Result of multiplication of mat_1 by itself, is added with the result of multiplication of mat_1 by matrix(4x4) of all ones's</p> "
   ]
  },
  {
   "cell_type": "code",
   "execution_count": 36,
   "metadata": {},
   "outputs": [
    {
     "name": "stdout",
     "output_type": "stream",
     "text": [
      "[[2.7225184  2.360584   2.4236305  2.4139392 ]\n",
      " [1.1181921  1.2289695  1.2074825  1.1094848 ]\n",
      " [0.81378174 1.0606263  1.0344065  0.90155053]\n",
      " [2.2260475  2.1176577  2.2840414  2.400345  ]]\n"
     ]
    }
   ],
   "source": [
    "result = tf.matmul(mat_1, mat_1) + tf.matmul(mat_1, tf.ones([4, 4], dtype=\"float32\"))\n",
    "with tf.Session():\n",
    "    print(result.eval())"
   ]
  },
  {
   "cell_type": "markdown",
   "metadata": {},
   "source": [
    "### Now, you can create your own matrix and play arround with it by using different matrix operations"
   ]
  },
  {
   "cell_type": "code",
   "execution_count": null,
   "metadata": {
    "collapsed": true
   },
   "outputs": [],
   "source": []
  }
 ],
 "metadata": {
  "kernelspec": {
   "display_name": "Python 3",
   "language": "python",
   "name": "python3"
  },
  "language_info": {
   "codemirror_mode": {
    "name": "ipython",
    "version": 3
   },
   "file_extension": ".py",
   "mimetype": "text/x-python",
   "name": "python",
   "nbconvert_exporter": "python",
   "pygments_lexer": "ipython3",
   "version": "3.6.3"
  }
 },
 "nbformat": 4,
 "nbformat_minor": 2
}
