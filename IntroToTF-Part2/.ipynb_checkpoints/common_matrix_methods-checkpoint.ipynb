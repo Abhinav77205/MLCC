{
 "cells": [
  {
   "cell_type": "markdown",
   "metadata": {},
   "source": [
    "### Common Matrix Methods"
   ]
  },
  {
   "cell_type": "markdown",
   "metadata": {},
   "source": [
    "Let's see some of the common methods we can use wih tensors."
   ]
  },
  {
   "cell_type": "markdown",
   "metadata": {},
   "source": [
    "| Operation | Description |\n",
    "| --------- | ----------- |\n",
    "| <b>tf.shape</b> | To find a shape of a tensor |\n",
    "| <b>tf.size</b> | To find the size of a tensor |\n",
    "| <b>tf.rank</b> | To find a rank of a tensor |\n",
    "| <b>tf.reshape</b> | To change the shape of a tensor keeping the same elements contained |\n",
    "| <b>tf.squeeze</b> | To delete in a tensor dimensions of size 1 |\n",
    "| <b>tf.expand_dims</b> | To insert a dimension to a tensor |\n",
    "| <b>tf.slice</b> | To remove a portions of a tensor |\n",
    "| <b>tf.split</b> | To divide a tensor into several tensors along one dimension |\n",
    "| <b>tf.tile</b> | To create a new tensor replicating a tensor multiple times |\n",
    "| <b>tf.concat</b> | To concatenate tensors in one dimension |\n",
    "| <b>tf.reverse</b> | To reverse a specific dimension of a tensor |\n",
    "| <b>tf.gather</b> | To collect portions according to an index |"
   ]
  },
  {
   "cell_type": "markdown",
   "metadata": {},
   "source": [
    "#### 1. Import required library"
   ]
  },
  {
   "cell_type": "markdown",
   "metadata": {},
   "source": [
    "Use the following import convention"
   ]
  },
  {
   "cell_type": "code",
   "execution_count": 2,
   "metadata": {},
   "outputs": [
    {
     "name": "stdout",
     "output_type": "stream",
     "text": [
      "1.12.0\n"
     ]
    }
   ],
   "source": [
    "import tensorflow as tf\n",
    "import numpy as np\n",
    "np.random.seed(0)\n",
    "print(tf.VERSION)"
   ]
  },
  {
   "cell_type": "markdown",
   "metadata": {},
   "source": [
    "#### 2. Create tensors"
   ]
  },
  {
   "cell_type": "code",
   "execution_count": 3,
   "metadata": {
    "collapsed": true
   },
   "outputs": [],
   "source": [
    "matrix_1 = tf.placeholder(dtype=tf.float32, name=\"matrix_1\")\n",
    "matrix_2 = tf.placeholder(dtype=tf.float32, name=\"matrix_2\")"
   ]
  },
  {
   "cell_type": "code",
   "execution_count": 4,
   "metadata": {
    "collapsed": true
   },
   "outputs": [],
   "source": [
    "# defining the session\n",
    "sess = tf.InteractiveSession()"
   ]
  },
  {
   "cell_type": "markdown",
   "metadata": {},
   "source": [
    "#### 3. Shape "
   ]
  },
  {
   "cell_type": "code",
   "execution_count": 5,
   "metadata": {},
   "outputs": [
    {
     "name": "stdout",
     "output_type": "stream",
     "text": [
      "Shape of \n",
      "[[4 7 6 5]\n",
      " [9 2 8 7]\n",
      " [9 1 6 1]\n",
      " [7 3 1 6]] is \n",
      "[4 4]\n"
     ]
    }
   ],
   "source": [
    "mat_1 = np.random.randint(low = 1, high = 10, size = (4, 4))\n",
    "data = {matrix_1: mat_1}\n",
    "print(\"Shape of \\n{} is \\n{}\".format(mat_1, tf.shape(matrix_1).eval(feed_dict= data)))"
   ]
  },
  {
   "cell_type": "markdown",
   "metadata": {},
   "source": [
    "#### 4. Size"
   ]
  },
  {
   "cell_type": "code",
   "execution_count": 6,
   "metadata": {},
   "outputs": [
    {
     "name": "stdout",
     "output_type": "stream",
     "text": [
      "Size of \n",
      "[[4 7 6 5]\n",
      " [9 2 8 7]\n",
      " [9 1 6 1]\n",
      " [7 3 1 6]] is \n",
      "16\n"
     ]
    }
   ],
   "source": [
    "print(\"Size of \\n{} is \\n{}\".format(mat_1, tf.size(matrix_1).eval(feed_dict= data)))"
   ]
  },
  {
   "cell_type": "markdown",
   "metadata": {},
   "source": [
    "#### 5. Rank"
   ]
  },
  {
   "cell_type": "code",
   "execution_count": 7,
   "metadata": {},
   "outputs": [
    {
     "name": "stdout",
     "output_type": "stream",
     "text": [
      "Rank of \n",
      "[[4 7 6 5]\n",
      " [9 2 8 7]\n",
      " [9 1 6 1]\n",
      " [7 3 1 6]] is \n",
      "2\n"
     ]
    }
   ],
   "source": [
    "print(\"Rank of \\n{} is \\n{}\".format(mat_1, tf.rank(matrix_1).eval(feed_dict= data)))"
   ]
  },
  {
   "cell_type": "markdown",
   "metadata": {},
   "source": [
    "#### 6. Reshape"
   ]
  },
  {
   "cell_type": "code",
   "execution_count": 8,
   "metadata": {},
   "outputs": [
    {
     "name": "stdout",
     "output_type": "stream",
     "text": [
      "Reshape \n",
      "[[4 7 6 5]\n",
      " [9 2 8 7]\n",
      " [9 1 6 1]\n",
      " [7 3 1 6]] of shape \n",
      "[4 4] into \n",
      "[[4. 7. 6. 5. 9. 2. 8. 7.]\n",
      " [9. 1. 6. 1. 7. 3. 1. 6.]] of shape \n",
      "[2 8]\n"
     ]
    }
   ],
   "source": [
    "print(\"Reshape \\n{} of shape \\n{} into \\n{} of shape \\n{}\".format(mat_1, tf.shape(matrix_1).eval(feed_dict= data), tf.reshape(matrix_1, shape = [2,8]).eval(feed_dict= data), tf.shape(tf.reshape(matrix_1, shape = [2,8])).eval(feed_dict = data)))"
   ]
  },
  {
   "cell_type": "markdown",
   "metadata": {},
   "source": [
    "#### 7. Squeeze"
   ]
  },
  {
   "cell_type": "code",
   "execution_count": 9,
   "metadata": {},
   "outputs": [
    {
     "name": "stdout",
     "output_type": "stream",
     "text": [
      "Squeeze \n",
      "[[3 7 4 8]] of shape \n",
      "[1 4] into \n",
      "[3. 7. 4. 8.] of shape \n",
      "[4]\n"
     ]
    }
   ],
   "source": [
    "mat_2 = np.random.randint(low = 1, high = 10, size = (1,4))\n",
    "print(\"Squeeze \\n{} of shape \\n{} into \\n{} of shape \\n{}\".format(mat_2, tf.shape(matrix_2).eval(feed_dict={matrix_2: mat_2}), tf.squeeze(matrix_2).eval(feed_dict= {matrix_2: mat_2}), tf.shape(tf.squeeze(matrix_2)).eval(feed_dict = {matrix_2: mat_2}))) "
   ]
  },
  {
   "cell_type": "markdown",
   "metadata": {},
   "source": [
    "#### 8. Expand Dimension"
   ]
  },
  {
   "cell_type": "code",
   "execution_count": 10,
   "metadata": {},
   "outputs": [
    {
     "name": "stdout",
     "output_type": "stream",
     "text": [
      "Expand Dimension of matrix \n",
      "[[3 7 4 8]] of shape \n",
      "[1 4] into matrix \n",
      "[[[3. 7. 4. 8.]]] of shape \n",
      "[1 1 4]\n"
     ]
    }
   ],
   "source": [
    "print(\"Expand Dimension of matrix \\n{} of shape \\n{} into matrix \\n{} of shape \\n{}\".format(mat_2, tf.shape(matrix_2).eval(feed_dict= {matrix_2: mat_2}), tf.expand_dims(matrix_2, 0).eval(feed_dict={matrix_2: mat_2}), tf.shape(tf.expand_dims(matrix_2, 0)).eval(feed_dict={matrix_2: mat_2})))"
   ]
  },
  {
   "cell_type": "markdown",
   "metadata": {},
   "source": [
    "#### 9. Slice"
   ]
  },
  {
   "cell_type": "code",
   "execution_count": 11,
   "metadata": {},
   "outputs": [
    {
     "name": "stdout",
     "output_type": "stream",
     "text": [
      "Slice matrix \n",
      "[[[1, 1, 1], [2, 2, 2]], [[3, 3, 3], [4, 4, 4]], [[5, 5, 5], [6, 6, 6]]] of shape \n",
      "[3 2 3] into matrix \n",
      "[[[3. 3. 3.]]] of shape \n",
      "[1 1 3]\n"
     ]
    }
   ],
   "source": [
    "mat_3 = ([[[1, 1, 1], [2, 2, 2]],\n",
    "                     [[3, 3, 3], [4, 4, 4]],\n",
    "                    [[5, 5, 5], [6, 6, 6]]])\n",
    "\n",
    "print(\"Slice matrix \\n{} of shape \\n{} into matrix \\n{} of shape \\n{}\".format(mat_3, tf.shape(matrix_2).eval(feed_dict={matrix_2: mat_3}), tf.slice(matrix_2, [1,0, 0], [1, 1, 3]).eval(feed_dict={matrix_2: mat_3}), tf.shape(tf.slice(matrix_2, [1,0, 0], [1, 1, 3])).eval(feed_dict={matrix_2: mat_3})))"
   ]
  },
  {
   "cell_type": "markdown",
   "metadata": {},
   "source": [
    "<b>Note:</b> <i>foo[3:7, :-2] is equivalent to tf.slice(foo, [3, 0], [4, foo.get_shape()[1] - 2)</i>"
   ]
  },
  {
   "cell_type": "markdown",
   "metadata": {},
   "source": [
    "#### 10. Split"
   ]
  },
  {
   "cell_type": "code",
   "execution_count": 12,
   "metadata": {},
   "outputs": [
    {
     "name": "stdout",
     "output_type": "stream",
     "text": [
      "A matrix \n",
      "[[4 7 6 5]\n",
      " [9 2 8 7]\n",
      " [9 1 6 1]\n",
      " [7 3 1 6]] of shape \n",
      "[4 4] is split into 2 matrices \n",
      "[[4 7]\n",
      " [9 2]\n",
      " [9 1]\n",
      " [7 3]] of shape \n",
      "[4 2] and \n",
      "[[6 5]\n",
      " [8 7]\n",
      " [6 1]\n",
      " [1 6]] of shape \n",
      "[4 2] \n"
     ]
    }
   ],
   "source": [
    "split0, split1 = tf.split(mat_1, num_or_size_splits = [2, 2], axis = 1)\n",
    "# print(tf.shape(split0).eval(feed_dict={matrix_1: mat_1}))\n",
    "# print(\"Split0 is of shape {}\".format(tf.shape(split0).eval()))\n",
    "# split0.eval()\n",
    "print(\"A matrix \\n{} of shape \\n{} is split into 2 matrices \\n{} of shape \\n{} and \\n{} of shape \\n{} \".format(mat_1, tf.shape(mat_1).eval(), split0.eval(), tf.shape(split0).eval(), split1.eval(), tf.shape(split1).eval()))"
   ]
  },
  {
   "cell_type": "markdown",
   "metadata": {},
   "source": [
    "#### 11. Replicating"
   ]
  },
  {
   "cell_type": "code",
   "execution_count": 13,
   "metadata": {},
   "outputs": [
    {
     "name": "stdout",
     "output_type": "stream",
     "text": [
      "Replicating \n",
      "[1 1 4 3] into \n",
      "[1 1 4 3 1 1 4 3]\n"
     ]
    }
   ],
   "source": [
    "mat_4 = np.random.randint(low= 1, high= 10, size = 4)\n",
    "print(\"Replicating \\n{} into \\n{}\".format(mat_4, tf.tile(mat_4, multiples=[2]).eval()))"
   ]
  },
  {
   "cell_type": "markdown",
   "metadata": {},
   "source": [
    "#### 12. Concatination"
   ]
  },
  {
   "cell_type": "code",
   "execution_count": 14,
   "metadata": {},
   "outputs": [
    {
     "name": "stdout",
     "output_type": "stream",
     "text": [
      "Concat matrix \n",
      "[[4 2 4 2]\n",
      " [4 8 2 8]]  and \n",
      "[[5 1 6 2]\n",
      " [6 5 1 9]] into \n",
      "[[4 2 4 2]\n",
      " [4 8 2 8]\n",
      " [5 1 6 2]\n",
      " [6 5 1 9]]\n"
     ]
    }
   ],
   "source": [
    "mat_5 = np.random.randint(low=1, high=10, size = (2,4))\n",
    "mat_6 = np.random.randint(low=1, high=10, size= (2,4))\n",
    "concat = tf.concat(values = [mat_5, mat_6], axis = 0)\n",
    "print(\"Concat matrix \\n{}  and \\n{} into \\n{}\".format(mat_5, mat_6, concat.eval()))"
   ]
  },
  {
   "cell_type": "code",
   "execution_count": 15,
   "metadata": {},
   "outputs": [
    {
     "name": "stdout",
     "output_type": "stream",
     "text": [
      "Concat matrix \n",
      "[[4 2 4 2]\n",
      " [4 8 2 8]] and \n",
      "[[5 1 6 2]\n",
      " [6 5 1 9]] into \n",
      "[[4 2 4 2 5 1 6 2]\n",
      " [4 8 2 8 6 5 1 9]]\n"
     ]
    }
   ],
   "source": [
    "concat_1 = tf.concat(values = [mat_5, mat_6], axis = 1)\n",
    "print(\"Concat matrix \\n{} and \\n{} into \\n{}\".format(mat_5, mat_6, concat_1.eval()))"
   ]
  },
  {
   "cell_type": "markdown",
   "metadata": {},
   "source": [
    "#### 13. Reverse"
   ]
  },
  {
   "cell_type": "code",
   "execution_count": 16,
   "metadata": {},
   "outputs": [
    {
     "name": "stdout",
     "output_type": "stream",
     "text": [
      "Reversing the matrix \n",
      "[[4 2 4 2]\n",
      " [4 8 2 8]] into \n",
      "[[4 8 2 8]\n",
      " [4 2 4 2]]\n"
     ]
    }
   ],
   "source": [
    "print(\"Reversing the matrix \\n{} into \\n{}\".format(mat_5, tf.reverse(mat_5, axis=[0]).eval()))"
   ]
  },
  {
   "cell_type": "code",
   "execution_count": 17,
   "metadata": {},
   "outputs": [
    {
     "name": "stdout",
     "output_type": "stream",
     "text": [
      "Reversing the matrix \n",
      "[[4 2 4 2]\n",
      " [4 8 2 8]] into \n",
      "[[2 4 2 4]\n",
      " [8 2 8 4]]\n"
     ]
    }
   ],
   "source": [
    "print(\"Reversing the matrix \\n{} into \\n{}\".format(mat_5, tf.reverse(mat_5, axis=[1]).eval()))"
   ]
  },
  {
   "cell_type": "markdown",
   "metadata": {},
   "source": [
    "#### 14. Gather"
   ]
  },
  {
   "cell_type": "code",
   "execution_count": 18,
   "metadata": {},
   "outputs": [
    {
     "name": "stdout",
     "output_type": "stream",
     "text": [
      "A matrix \n",
      "[1 1 4 3] is gather by indices \n",
      "[1 1 3]\n"
     ]
    }
   ],
   "source": [
    "print(\"A matrix \\n{} is gather by indices \\n{}\".format(mat_4, tf.gather(mat_4, indices=[1,0,3]).eval()))"
   ]
  },
  {
   "cell_type": "markdown",
   "metadata": {
    "collapsed": true
   },
   "source": [
    "#### These methods are sufficient for you to move on."
   ]
  },
  {
   "cell_type": "code",
   "execution_count": null,
   "metadata": {
    "collapsed": true
   },
   "outputs": [],
   "source": []
  }
 ],
 "metadata": {
  "kernelspec": {
   "display_name": "Python 3",
   "language": "python",
   "name": "python3"
  },
  "language_info": {
   "codemirror_mode": {
    "name": "ipython",
    "version": 3
   },
   "file_extension": ".py",
   "mimetype": "text/x-python",
   "name": "python",
   "nbconvert_exporter": "python",
   "pygments_lexer": "ipython3",
   "version": "3.6.3"
  }
 },
 "nbformat": 4,
 "nbformat_minor": 2
}
