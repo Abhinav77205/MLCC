{
 "cells": [
  {
   "cell_type": "markdown",
   "metadata": {},
   "source": [
    "### Intro-To-TF (Part-3)"
   ]
  },
  {
   "cell_type": "markdown",
   "metadata": {},
   "source": [
    "In the last two tutorials [Intro-To-TF-Part1](https://github.com/Praneet460/MLCC/tree/master/Day1) and [Intro-To-TF-Part2](https://github.com/Praneet460/MLCC/tree/master/Day2), we learn about the different mathematical operations we can perform with the tensors.\n",
    "And now, we see how we can create our First ```Neural Network```."
   ]
  },
  {
   "cell_type": "markdown",
   "metadata": {},
   "source": [
    "#### 1. Simple Neural Network"
   ]
  },
  {
   "cell_type": "markdown",
   "metadata": {},
   "source": [
    "We can define neural networks in TensorFlow using computation graphs."
   ]
  },
  {
   "cell_type": "markdown",
   "metadata": {},
   "source": [
    "<img src=\"./computation-graph-2.png\"/>"
   ]
  },
  {
   "cell_type": "markdown",
   "metadata": {},
   "source": [
    "The graph shown above takes an input (x) and computes an output (out). The other parameters are :\n",
    "1. <b>w</b> : weight, \n",
    "2. <b>x</b> : input,\n",
    "3. <b>b</b> : bias,\n",
    "4. <b>out</b> : output\n",
    "\n",
    "<b>Notice</b> : out = sigmoid(w*x+b), where sigmoid is an activation function, we can also use other activation function like :\n",
    "* out = tanh(z) \n",
    "* out = relu(z)\n",
    "<br>\n",
    "where,\n",
    "* Tanh - Hyperbolic tangent\n",
    "* ReLu - Rectified Linear Units\n",
    "* Softplus\n",
    "<br>\n",
    "Just remember :\n",
    "<b><i>\"Input times weights, add Bias and Activate\"</i></b>"
   ]
  },
  {
   "cell_type": "markdown",
   "metadata": {},
   "source": [
    "Let's build our first Neural Network"
   ]
  },
  {
   "cell_type": "code",
   "execution_count": 18,
   "metadata": {},
   "outputs": [
    {
     "name": "stdout",
     "output_type": "stream",
     "text": [
      "1.12.0\n"
     ]
    }
   ],
   "source": [
    "# Import required library\n",
    "import tensorflow as tf\n",
    "import numpy as np\n",
    "import matplotlib.pyplot as plt\n",
    "from matplotlib import style\n",
    "%matplotlib inline\n",
    "style.use(\"ggplot\")\n",
    "\n",
    "print(tf.VERSION)\n",
    "\n",
    "# Defining Inputs\n",
    "x = tf.placeholder(dtype=tf.float32, shape=(None, 2), name=\"x\")\n",
    "w = tf.Variable(tf.ones((2, 1)), dtype=tf.float32)        \n",
    "b = tf.Variable(tf.ones(1), dtype=tf.float32)              "
   ]
  },
  {
   "cell_type": "markdown",
   "metadata": {},
   "source": [
    "<b>tf.Variable</b> : Variables in TensorFlow are in-memory buffers containing tensors which have to be explicitly initialized and used in-graph to maintain state across session. Variables are especially useful once you start with training models, and they are used to hold and update parameters. Just like any <i>Tensor</i>, variables created with <i>Variable()</i> can be used as inputs for other Ops in the graph.\n",
    "The signature of the <i>tf.Variable</i> is :<br>\n",
    "tf.Variable(```<initial-value>```, name=```<optional-name>```)"
   ]
  },
  {
   "cell_type": "code",
   "execution_count": 19,
   "metadata": {
    "collapsed": true
   },
   "outputs": [],
   "source": [
    "# define operation for z\n",
    "z = tf.add(tf.matmul(x, w), b)"
   ]
  },
  {
   "cell_type": "code",
   "execution_count": 20,
   "metadata": {},
   "outputs": [
    {
     "name": "stdout",
     "output_type": "stream",
     "text": [
      "Value of z is 1.399999976158142\n"
     ]
    }
   ],
   "source": [
    "# printing value of z for x = [[0.25, 0.15]]\n",
    "init = tf.global_variables_initializer()\n",
    "with tf.Session() as session:\n",
    "    session.run(init)\n",
    "    data = {x: [[0.25, 0.15]]}\n",
    "    result_z = session.run(z, feed_dict= data)\n",
    "    print(\"Value of z is {}\".format(result_z[0][0]))"
   ]
  },
  {
   "cell_type": "markdown",
   "metadata": {},
   "source": [
    "```tf.global_variables_initializer()``` : Variable initializers must be run explicitly before other ops in your model can be run. The easiest way to do that is to add an op that runs all the variable initializers, and run that op before using the model."
   ]
  },
  {
   "cell_type": "code",
   "execution_count": 21,
   "metadata": {
    "collapsed": true
   },
   "outputs": [],
   "source": [
    "# using sigmoid as activation function \n",
    "out = tf.sigmoid(z)"
   ]
  },
  {
   "cell_type": "code",
   "execution_count": 22,
   "metadata": {},
   "outputs": [
    {
     "name": "stdout",
     "output_type": "stream",
     "text": [
      "0.8021839\n"
     ]
    }
   ],
   "source": [
    "# Executing the computation graph\n",
    "\n",
    "with tf.Session() as session:\n",
    "    session.run(init)\n",
    "    result = session.run(out, feed_dict={x: [[0.25, 0.15]]})\n",
    "    print(result[0][0])"
   ]
  },
  {
   "cell_type": "markdown",
   "metadata": {},
   "source": [
    "<b>Note: </b>Sigmoid function is having the range from 0 to 1 i.e. (0, 1). Hence, it squeeze our value of z = <i>1.4</i> to out = <i>0.802</i>"
   ]
  },
  {
   "cell_type": "markdown",
   "metadata": {},
   "source": [
    "#### To Proof: Our values are same as mathematically calculated values"
   ]
  },
  {
   "cell_type": "code",
   "execution_count": 58,
   "metadata": {},
   "outputs": [
    {
     "data": {
      "text/plain": [
       "0.8021838800817239"
      ]
     },
     "execution_count": 58,
     "metadata": {},
     "output_type": "execute_result"
    }
   ],
   "source": [
    "def sigmoid_value(z):\n",
    "    return (1 / (1 + np.exp(-z)))\n",
    "sigmoid_value(result_z[0][0])"
   ]
  },
  {
   "cell_type": "markdown",
   "metadata": {},
   "source": [
    "#### 1.1 Sigmoid Activation Function"
   ]
  },
  {
   "cell_type": "code",
   "execution_count": 25,
   "metadata": {
    "collapsed": true
   },
   "outputs": [],
   "source": [
    "# generate data\n",
    "\n",
    "data_points = np.linspace(-5, 5, 200)"
   ]
  },
  {
   "cell_type": "code",
   "execution_count": 27,
   "metadata": {
    "collapsed": true
   },
   "outputs": [],
   "source": [
    "# apply activation function on data_points\n",
    "y_sigmoid = tf.sigmoid(data_points)"
   ]
  },
  {
   "cell_type": "code",
   "execution_count": 28,
   "metadata": {
    "collapsed": true
   },
   "outputs": [],
   "source": [
    "with tf.Session() as session:\n",
    "    y_sigmoid = session.run(y_sigmoid)"
   ]
  },
  {
   "cell_type": "code",
   "execution_count": 30,
   "metadata": {},
   "outputs": [
    {
     "data": {
      "image/png": "[encoded data removed]",
      "text/plain": [
       "<matplotlib.figure.Figure at 0x240b41f87b8>"
      ]
     },
     "metadata": {},
     "output_type": "display_data"
    }
   ],
   "source": [
    "# plot the Sigmoid Graph\n",
    "plt.figure(figsize=(10, 6))\n",
    "plt.plot(data_points, y_sigmoid, c=\"blue\", label=\"sigmoid\")\n",
    "plt.ylim((-0.2, 1.2))\n",
    "plt.legend(loc=\"best\")\n",
    "plt.show()"
   ]
  },
  {
   "cell_type": "markdown",
   "metadata": {},
   "source": [
    "#### The above graph is of Sigmoid Function"
   ]
  },
  {
   "cell_type": "code",
   "execution_count": 31,
   "metadata": {},
   "outputs": [
    {
     "name": "stdout",
     "output_type": "stream",
     "text": [
      "0.88535166\n"
     ]
    }
   ],
   "source": [
    "# using tanh as activation function\n",
    "out_tanh = tf.tanh(z)\n",
    "with tf.Session() as session:\n",
    "    session.run(init)\n",
    "    result = session.run(out_tanh, feed_dict={x: [[0.25, 0.15]]})\n",
    "    print(result[0][0])"
   ]
  },
  {
   "cell_type": "markdown",
   "metadata": {},
   "source": [
    "<b>Note: </b> Tanh function is having the range from -1 to 1 i.e (-1, 1). That is why, it squeezes our value of z = <i>1.4</i> into out = <i>0.88</i>"
   ]
  },
  {
   "cell_type": "markdown",
   "metadata": {},
   "source": [
    "#### To Prove: Our values are same as mathematically calculated values"
   ]
  },
  {
   "cell_type": "code",
   "execution_count": 60,
   "metadata": {},
   "outputs": [
    {
     "data": {
      "text/plain": [
       "0.8853516430487862"
      ]
     },
     "execution_count": 60,
     "metadata": {},
     "output_type": "execute_result"
    }
   ],
   "source": [
    "def tanh_value(z):\n",
    "    return ((2 / (1 + np.exp(-2*z))) - 1)\n",
    "tanh_value(result_z[0][0])"
   ]
  },
  {
   "cell_type": "markdown",
   "metadata": {},
   "source": [
    "#### 1.2 Tanh Activation Function"
   ]
  },
  {
   "cell_type": "code",
   "execution_count": 32,
   "metadata": {
    "collapsed": true
   },
   "outputs": [],
   "source": [
    "# apply activation function on data_points\n",
    "y_tanh = tf.tanh(data_points)"
   ]
  },
  {
   "cell_type": "code",
   "execution_count": 34,
   "metadata": {
    "collapsed": true
   },
   "outputs": [],
   "source": [
    "with tf.Session() as session:\n",
    "    y_tanh = session.run(y_tanh)"
   ]
  },
  {
   "cell_type": "code",
   "execution_count": 36,
   "metadata": {},
   "outputs": [
    {
     "data": {
      "image/png": "[encoded data removed]",
      "text/plain": [
       "<matplotlib.figure.Figure at 0x240cccc2f60>"
      ]
     },
     "metadata": {},
     "output_type": "display_data"
    }
   ],
   "source": [
    "# plot the tanh Graph\n",
    "plt.figure(figsize=(10, 6))\n",
    "plt.plot(data_points, y_tanh, c=\"brown\", label=\"tanh\")\n",
    "plt.ylim((-1.2, 1.2))\n",
    "plt.legend(loc=\"best\")\n",
    "plt.show()"
   ]
  },
  {
   "cell_type": "markdown",
   "metadata": {},
   "source": [
    "#### The above graph is of tanh"
   ]
  },
  {
   "cell_type": "code",
   "execution_count": 24,
   "metadata": {},
   "outputs": [
    {
     "name": "stdout",
     "output_type": "stream",
     "text": [
      "1.4\n"
     ]
    }
   ],
   "source": [
    "# using relu as activation function\n",
    "out_relu = tf.nn.relu(z)\n",
    "with tf.Session() as session:\n",
    "    session.run(init)\n",
    "    result = session.run(out_relu, feed_dict={x: [[0.25, 0.15]]})\n",
    "    print(result[0][0])"
   ]
  },
  {
   "cell_type": "markdown",
   "metadata": {},
   "source": [
    "<b>Note: </b>Relu function is having the range from 0 to infinity i.e. [0, infinity). Hence, as the value of z is positive if gives back the same result i.e. out = <i>1.4</i>"
   ]
  },
  {
   "cell_type": "markdown",
   "metadata": {},
   "source": [
    "#### To Prove: Our values are same as mathematically calculated values"
   ]
  },
  {
   "cell_type": "code",
   "execution_count": 63,
   "metadata": {},
   "outputs": [
    {
     "data": {
      "text/plain": [
       "1.4"
      ]
     },
     "execution_count": 63,
     "metadata": {},
     "output_type": "execute_result"
    }
   ],
   "source": [
    "def relu_value(z):\n",
    "    if z < 0:\n",
    "        return (0)\n",
    "    else:\n",
    "        return (z)\n",
    "relu_value(result_z[0][0])"
   ]
  },
  {
   "cell_type": "markdown",
   "metadata": {},
   "source": [
    "#### 1.3 Relu Activation Function"
   ]
  },
  {
   "cell_type": "code",
   "execution_count": 37,
   "metadata": {
    "collapsed": true
   },
   "outputs": [],
   "source": [
    "# apply activation function on data_points\n",
    "y_relu = tf.nn.relu(data_points)"
   ]
  },
  {
   "cell_type": "code",
   "execution_count": 38,
   "metadata": {
    "collapsed": true
   },
   "outputs": [],
   "source": [
    "with tf.Session() as session:\n",
    "    y_relu = session.run(y_relu)"
   ]
  },
  {
   "cell_type": "code",
   "execution_count": 39,
   "metadata": {},
   "outputs": [
    {
     "data": {
      "image/png": "[encoded data removed]",
      "text/plain": [
       "<matplotlib.figure.Figure at 0x240cccd30b8>"
      ]
     },
     "metadata": {},
     "output_type": "display_data"
    }
   ],
   "source": [
    "# plot the relu graph\n",
    "plt.figure(figsize=(10, 6))\n",
    "plt.plot(data_points, y_relu, c=\"red\", label=\"relu\")\n",
    "plt.ylim((-1, 5))\n",
    "plt.legend(loc=\"best\")\n",
    "plt.show()"
   ]
  },
  {
   "cell_type": "markdown",
   "metadata": {},
   "source": [
    "#### The above graph is of relu"
   ]
  },
  {
   "cell_type": "code",
   "execution_count": 43,
   "metadata": {},
   "outputs": [
    {
     "name": "stdout",
     "output_type": "stream",
     "text": [
      "1.6204174\n"
     ]
    }
   ],
   "source": [
    "# using softplus as an activation function\n",
    "out_softplus = tf.nn.softplus(z)\n",
    "with tf.Session() as session:\n",
    "    session.run(init)\n",
    "    result = session.run(out_softplus, feed_dict={x: [[0.25, 0.15]]})\n",
    "    print(result[0][0])"
   ]
  },
  {
   "cell_type": "markdown",
   "metadata": {},
   "source": [
    "<b>Note: </b>Softplus is having the range from 0 to infinity i.e. [0, infinity)"
   ]
  },
  {
   "cell_type": "markdown",
   "metadata": {},
   "source": [
    "#### To Prove: Our values are same as mathematically calculated values"
   ]
  },
  {
   "cell_type": "code",
   "execution_count": 64,
   "metadata": {},
   "outputs": [
    {
     "data": {
      "text/plain": [
       "1.620417436247853"
      ]
     },
     "execution_count": 64,
     "metadata": {},
     "output_type": "execute_result"
    }
   ],
   "source": [
    "def softplus_value(z):\n",
    "    return (np.log(1 + (np.exp(z))))\n",
    "softplus_value(result_z[0][0])"
   ]
  },
  {
   "cell_type": "markdown",
   "metadata": {},
   "source": [
    "#### 1.4 Softplus Activation Function"
   ]
  },
  {
   "cell_type": "code",
   "execution_count": 44,
   "metadata": {
    "collapsed": true
   },
   "outputs": [],
   "source": [
    "# apply activation function on data_points\n",
    "y_softplus = tf.nn.softplus(data_points)"
   ]
  },
  {
   "cell_type": "code",
   "execution_count": 45,
   "metadata": {
    "collapsed": true
   },
   "outputs": [],
   "source": [
    "with tf.Session() as session:\n",
    "    y_softplus = session.run(y_softplus)"
   ]
  },
  {
   "cell_type": "code",
   "execution_count": 46,
   "metadata": {},
   "outputs": [
    {
     "data": {
      "image/png": "[encoded data removed]",
      "text/plain": [
       "<matplotlib.figure.Figure at 0x240ce19e358>"
      ]
     },
     "metadata": {},
     "output_type": "display_data"
    }
   ],
   "source": [
    "# plot the softplus graph\n",
    "plt.figure(figsize=(10, 6))\n",
    "plt.plot(data_points, y_softplus, c=\"green\", label=\"softplus\")\n",
    "plt.ylim((-0.2, 6))\n",
    "plt.legend(loc=\"best\")\n",
    "plt.show()"
   ]
  },
  {
   "cell_type": "markdown",
   "metadata": {},
   "source": [
    "#### The above graph is of softplus"
   ]
  },
  {
   "cell_type": "markdown",
   "metadata": {},
   "source": [
    "<b>Conclusion</b> : Using four different activation functions we get four different results. And ReLu activation function provide us with more accurate result."
   ]
  },
  {
   "cell_type": "code",
   "execution_count": null,
   "metadata": {
    "collapsed": true
   },
   "outputs": [],
   "source": []
  }
 ],
 "metadata": {
  "kernelspec": {
   "display_name": "Python 3",
   "language": "python",
   "name": "python3"
  },
  "language_info": {
   "codemirror_mode": {
    "name": "ipython",
    "version": 3
   },
   "file_extension": ".py",
   "mimetype": "text/x-python",
   "name": "python",
   "nbconvert_exporter": "python",
   "pygments_lexer": "ipython3",
   "version": "3.6.3"
  }
 },
 "nbformat": 4,
 "nbformat_minor": 2
}
