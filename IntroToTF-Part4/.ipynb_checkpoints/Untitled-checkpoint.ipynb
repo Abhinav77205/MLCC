{
 "cells": [
  {
   "cell_type": "markdown",
   "metadata": {},
   "source": [
    "### Introduction To TensorFlow (Part-4)"
   ]
  },
  {
   "cell_type": "markdown",
   "metadata": {},
   "source": [
    "In the past three tutorials [Intro-To-TF-Part1](https://github.com/Praneet460/MLCC/tree/master/Day1), [Intro-to-TF-Part2](https://github.com/Praneet460/MLCC/tree/master/Day2) and [Intro-to-TF-Part3](https://github.com/Praneet460/MLCC/tree/master/Day3), we learn about the different mathematical operations we can perform with tensors or create our own simple neural network.\n"
   ]
  },
  {
   "cell_type": "markdown",
   "metadata": {},
   "source": [
    "Today, we learn some more operations we can perform with the tensors, that are going to help us in training big neural network. "
   ]
  },
  {
   "cell_type": "markdown",
   "metadata": {},
   "source": [
    "#### Additional Operations"
   ]
  },
  {
   "cell_type": "markdown",
   "metadata": {},
   "source": [
    "##### 1. Sequence Utilities"
   ]
  },
  {
   "cell_type": "code",
   "execution_count": 23,
   "metadata": {},
   "outputs": [
    {
     "name": "stdout",
     "output_type": "stream",
     "text": [
      "[[35 47 40 37]\n",
      " [76 99 89 32]\n",
      " [25 94 66 17]\n",
      " [95  6  8 80]]\n",
      "[33 61 52 34 48]\n",
      "[54 67 75 89 75]\n"
     ]
    }
   ],
   "source": [
    "# Import necessary packages\n",
    "import tensorflow as tf\n",
    "import numpy as np\n",
    "\n",
    "# Take an array of random integer values\n",
    "x = np.array(np.random.randint(low=100, size=(4, 4)))\n",
    "y = np.array(np.random.randint(low=100, size=(5)))\n",
    "z = np.array(np.random.randint(low=100, size=(5)))\n",
    "\n",
    "print(x)\n",
    "print(y)\n",
    "print(z)"
   ]
  },
  {
   "cell_type": "markdown",
   "metadata": {},
   "source": [
    "```np.random.randint``` will give us the set of random integer values. It's signature is <br>\n",
    "<b>```np.random.randint(low, high=None, size=None, dtype='I')```</b> <br>\n",
    "where,\n",
    "* <b>low</b> is the lowest integer to be drawn from the distribution.\n",
    "* <b>high</b> is the largest integer to be drawn from the distribution.\n",
    "* <b>size</b> is the size of an array.\n",
    "* <b>dtype</b> is data type (optional)."
   ]
  },
  {
   "cell_type": "code",
   "execution_count": 24,
   "metadata": {
    "collapsed": true
   },
   "outputs": [],
   "source": [
    "# Convert an array into the tensor\n",
    "m1 = tf.convert_to_tensor(x)\n",
    "m2 = tf.convert_to_tensor(y)\n",
    "m3 = tf.convert_to_tensor(z)"
   ]
  },
  {
   "cell_type": "markdown",
   "metadata": {},
   "source": [
    "##### 1.1 tf.argmin\n",
    "Returns the index with the smallest value across axes of a tensor. ```tf.argmin``` signature is <br>\n",
    "<b>```tf.argmin(input, axis=None, name=None, dimension=None, output_type =tf.int64)```</b>"
   ]
  },
  {
   "cell_type": "code",
   "execution_count": 25,
   "metadata": {},
   "outputs": [
    {
     "name": "stdout",
     "output_type": "stream",
     "text": [
      "[0 3 3 1]\n"
     ]
    }
   ],
   "source": [
    "arg_min = tf.argmin(m1, 1)\n",
    "with tf.Session():\n",
    "    print(arg_min.eval())"
   ]
  },
  {
   "cell_type": "markdown",
   "metadata": {},
   "source": [
    "##### 1.2 tf.argmax\n",
    "Returns the index with the largest value across axes of a tensor. ```tf.argmax``` signature is <br>\n",
    "<b>```tf.argmax(input, axis=None, name=None, dimension=None, output_type =tf.int64)```</b>"
   ]
  },
  {
   "cell_type": "code",
   "execution_count": 26,
   "metadata": {},
   "outputs": [
    {
     "name": "stdout",
     "output_type": "stream",
     "text": [
      "[1 1 1 0]\n"
     ]
    }
   ],
   "source": [
    "arg_max = tf.argmax(m1, 1)\n",
    "with tf.Session():\n",
    "    print(arg_max.eval())"
   ]
  },
  {
   "cell_type": "markdown",
   "metadata": {},
   "source": [
    "##### 1.3 tf.unique\n",
    "Finds unique elements in a 1-D tensor. ```tf.unique``` signature is <br>\n",
    "<b>```tf.unique(x, out_idx=tf.int32, name=None)```</b>"
   ]
  },
  {
   "cell_type": "code",
   "execution_count": 28,
   "metadata": {},
   "outputs": [
    {
     "name": "stdout",
     "output_type": "stream",
     "text": [
      "Unique value in m2 are  [33 61 52 34 48]\n",
      "Unique index in m2 are  [0 1 2 3 4]\n"
     ]
    }
   ],
   "source": [
    "unique_m2 = tf.unique(m2)\n",
    "\n",
    "with tf.Session() as session:\n",
    "    print(\"Unique value in m2 are \", session.run(unique_m2)[0])\n",
    "    print(\"Unique index in m2 are \", session.run(unique_m2)[1])"
   ]
  },
  {
   "cell_type": "markdown",
   "metadata": {},
   "source": [
    "##### 1.4 tf.setdiff1d\n",
    "Computes the difference between two lists of numbers or strings. <br>\n",
    "Given two lists, this operation returns a list out that represents all values that are in list1 but not in list2. The returned list out is sorted in the same order that the number appear in list1.This operation also returns a list index that represents the position of each out element in list1. <br>\n",
    "The ```tf.setdiff1d``` signature is <br>\n",
    "<b>```tf.setdiff1d(x, y, index_dtype=tf.int32, name=None```</b>"
   ]
  },
  {
   "cell_type": "code",
   "execution_count": 29,
   "metadata": {},
   "outputs": [
    {
     "name": "stdout",
     "output_type": "stream",
     "text": [
      "Setdiff values are  [33 61 52 34 48]\n",
      "Setdiff indexes are  [0 1 2 3 4]\n"
     ]
    }
   ],
   "source": [
    "diff = tf.setdiff1d(y, z)\n",
    "with tf.Session() as session:\n",
    "    print(\"Setdiff values are \", session.run(diff)[0])\n",
    "    print(\"Setdiff indexes are \", session.run(diff)[1])"
   ]
  },
  {
   "cell_type": "markdown",
   "metadata": {},
   "source": [
    "##### 2. Reduction\n",
    "TensorFlow supports different kinds of reduction. Reduction is an operation that removes one or more dimensions from a tensor by performing certain operations across those dimensions."
   ]
  },
  {
   "cell_type": "code",
   "execution_count": 33,
   "metadata": {},
   "outputs": [
    {
     "name": "stdout",
     "output_type": "stream",
     "text": [
      "[[9 5 0]\n",
      " [7 5 8]\n",
      " [2 6 8]]\n"
     ]
    }
   ],
   "source": [
    "a = np.array(np.random.randint(low=10, size=[3, 3]))\n",
    "m4 = tf.convert_to_tensor(a)\n",
    "print(a)"
   ]
  },
  {
   "cell_type": "markdown",
   "metadata": {},
   "source": [
    "##### 2.1 tf.reduce_sum"
   ]
  },
  {
   "cell_type": "code",
   "execution_count": 34,
   "metadata": {},
   "outputs": [
    {
     "name": "stdout",
     "output_type": "stream",
     "text": [
      "50\n",
      "[14 20 16]\n"
     ]
    }
   ],
   "source": [
    "red_sum_0 = tf.reduce_sum(m4)\n",
    "red_sum = tf.reduce_sum(m4, axis=1)\n",
    "with tf.Session() as session:\n",
    "    print(session.run(red_sum_0))\n",
    "    print(session.run(red_sum))"
   ]
  },
  {
   "cell_type": "markdown",
   "metadata": {},
   "source": [
    "##### 2.2 tf.reduce_prod"
   ]
  },
  {
   "cell_type": "code",
   "execution_count": 39,
   "metadata": {},
   "outputs": [
    {
     "name": "stdout",
     "output_type": "stream",
     "text": [
      "0\n",
      "[  0 280  96]\n"
     ]
    }
   ],
   "source": [
    "red_prod_0 = tf.reduce_prod(m4)\n",
    "red_prod = tf.reduce_prod(m4, axis=1)\n",
    "with tf.Session() as session:\n",
    "    print(session.run(red_prod_0))\n",
    "    print(session.run(red_prod))"
   ]
  },
  {
   "cell_type": "markdown",
   "metadata": {},
   "source": [
    "##### 2.3 tf.reduce_min"
   ]
  },
  {
   "cell_type": "code",
   "execution_count": 40,
   "metadata": {},
   "outputs": [
    {
     "name": "stdout",
     "output_type": "stream",
     "text": [
      "0\n",
      "[0 5 2]\n"
     ]
    }
   ],
   "source": [
    "red_min_0 = tf.reduce_min(m4)\n",
    "red_min = tf.reduce_min(m4, axis=1)\n",
    "with tf.Session() as session:\n",
    "    print(session.run(red_min_0))\n",
    "    print(session.run(red_min))"
   ]
  },
  {
   "cell_type": "markdown",
   "metadata": {},
   "source": [
    "##### 2.4 tf.reduce_max"
   ]
  },
  {
   "cell_type": "code",
   "execution_count": 42,
   "metadata": {},
   "outputs": [
    {
     "name": "stdout",
     "output_type": "stream",
     "text": [
      "9\n",
      "[9 8 8]\n"
     ]
    }
   ],
   "source": [
    "red_max_0 = tf.reduce_max(m4)\n",
    "red_max = tf.reduce_max(m4, axis=1)\n",
    "with tf.Session() as session:\n",
    "    print(session.run(red_max_0))\n",
    "    print(session.run(red_max))"
   ]
  },
  {
   "cell_type": "markdown",
   "metadata": {},
   "source": [
    "##### 2.5 tf.reduce_mean"
   ]
  },
  {
   "cell_type": "code",
   "execution_count": 44,
   "metadata": {},
   "outputs": [
    {
     "name": "stdout",
     "output_type": "stream",
     "text": [
      "5\n",
      "[4 6 5]\n"
     ]
    }
   ],
   "source": [
    "red_mean_0 = tf.reduce_mean(m4)\n",
    "red_mean = tf.reduce_mean(m4, axis=1)\n",
    "with tf.Session() as session:\n",
    "    print(session.run(red_mean_0))\n",
    "    print(session.run(red_mean))"
   ]
  },
  {
   "cell_type": "markdown",
   "metadata": {},
   "source": [
    "#### Now you can play around with differnt input values."
   ]
  },
  {
   "cell_type": "code",
   "execution_count": null,
   "metadata": {
    "collapsed": true
   },
   "outputs": [],
   "source": []
  }
 ],
 "metadata": {
  "kernelspec": {
   "display_name": "Python 3",
   "language": "python",
   "name": "python3"
  },
  "language_info": {
   "codemirror_mode": {
    "name": "ipython",
    "version": 3
   },
   "file_extension": ".py",
   "mimetype": "text/x-python",
   "name": "python",
   "nbconvert_exporter": "python",
   "pygments_lexer": "ipython3",
   "version": "3.6.3"
  }
 },
 "nbformat": 4,
 "nbformat_minor": 2
}
