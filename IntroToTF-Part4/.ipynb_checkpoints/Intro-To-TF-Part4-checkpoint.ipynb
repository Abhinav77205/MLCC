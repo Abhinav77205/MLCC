{
 "cells": [
  {
   "cell_type": "markdown",
   "metadata": {},
   "source": [
    "### Introduction To TensorFlow (Part-4)"
   ]
  },
  {
   "cell_type": "markdown",
   "metadata": {},
   "source": [
    "In the past three tutorials [Intro-To-TF-Part1](https://github.com/Praneet460/MLCC/tree/master/Day1), [Intro-to-TF-Part2](https://github.com/Praneet460/MLCC/tree/master/Day2) and [Intro-to-TF-Part3](https://github.com/Praneet460/MLCC/tree/master/Day3), we learn about the different mathematical operations we can perform with tensors or create our own simple neural network.\n"
   ]
  },
  {
   "cell_type": "markdown",
   "metadata": {},
   "source": [
    "Today, we learn some more operations we can perform with the tensors, that are going to help us in training big neural network. "
   ]
  },
  {
   "cell_type": "markdown",
   "metadata": {},
   "source": [
    "#### Additional Operations"
   ]
  },
  {
   "cell_type": "markdown",
   "metadata": {},
   "source": [
    "| Operations | Description |\n",
    "| ---------- | ----------- |\n",
    "| <b>tf.reduce_sum</b> | Computes the sum of the elements along one dimension |\n",
    "| <b>tf.reduce_prod</b> | Computes the product of the elements along one dimension |\n",
    "| <b>tf.reduce_min</b> | Computes the minimum of the elements along one dimension |\n",
    "| <b>tf.reduce_max</b> | Computes the maximum od the elements  along one dimension |\n",
    "| <b>tf.reduce_mean</b> | Computes the mean of the elements along one dimension |\n",
    "| <b>tf.argmin</b> | Returns the index of the element with minimum value along tensor dimension |\n",
    "| <b>tf.argmax</b> | Returns the index of the element with the maximum value of the tensor dimension |"
   ]
  },
  {
   "cell_type": "markdown",
   "metadata": {},
   "source": [
    "##### 1. Sequence Utilities"
   ]
  },
  {
   "cell_type": "code",
   "execution_count": 2,
   "metadata": {},
   "outputs": [
    {
     "name": "stdout",
     "output_type": "stream",
     "text": [
      "TensorFlow Version  1.12.0\n",
      "Numpy Version  1.15.4\n",
      "X Array:\n",
      "  [[44 47 64 67]\n",
      " [67  9 83 21]\n",
      " [36 87 70 88]\n",
      " [88 12 58 65]]\n",
      "Y Array:\n",
      "  [39 87 46 88 81]\n",
      "Z Array:\n",
      "  [37 25 77 72  9]\n"
     ]
    }
   ],
   "source": [
    "# Import necessary packages\n",
    "import tensorflow as tf\n",
    "import numpy as np\n",
    "np.random.seed(0)\n",
    "\n",
    "print(\"TensorFlow Version \", tf.VERSION)\n",
    "print(\"Numpy Version \", np.__version__)\n",
    "\n",
    "# Take an array of random integer values\n",
    "x = np.array(np.random.randint(low=100, size=(4, 4)))\n",
    "y = np.array(np.random.randint(low=100, size=(5)))\n",
    "z = np.array(np.random.randint(low=100, size=(5)))\n",
    "\n",
    "# Take a look on arrays\n",
    "print(\"X Array:\\n \", x)\n",
    "print(\"Y Array:\\n \", y)\n",
    "print(\"Z Array:\\n \", z)"
   ]
  },
  {
   "cell_type": "markdown",
   "metadata": {},
   "source": [
    "```np.random.randint``` will give us the set of random integer values. It's signature is <br>\n",
    "<b> ```\n",
    "np.random.randint(low, high=None, size=None, dtype='I')\n",
    "``` </b> <br>\n",
    "where,\n",
    "* <b>low</b> is the lowest integer to be drawn from the distribution.\n",
    "* <b>high</b> is the largest integer to be drawn from the distribution.\n",
    "* <b>size</b> is the size of an array.\n",
    "* <b>dtype</b> is data type (optional)."
   ]
  },
  {
   "cell_type": "code",
   "execution_count": 3,
   "metadata": {
    "collapsed": true
   },
   "outputs": [],
   "source": [
    "# Convert an array into the tensor\n",
    "m1 = tf.convert_to_tensor(x)\n",
    "m2 = tf.convert_to_tensor(y)\n",
    "m3 = tf.convert_to_tensor(z)"
   ]
  },
  {
   "cell_type": "markdown",
   "metadata": {},
   "source": [
    "##### 1.1 tf.argmin\n",
    "Returns the index with the smallest value across axes of a tensor. The ```tf.argmin``` signature is <br>\n",
    "<b>```tf.argmin(input, axis=None, name=None, dimension=None, output_type =tf.int64)```</b>"
   ]
  },
  {
   "cell_type": "code",
   "execution_count": 4,
   "metadata": {},
   "outputs": [
    {
     "name": "stdout",
     "output_type": "stream",
     "text": [
      "[0 1 0 1]\n"
     ]
    }
   ],
   "source": [
    "arg_min = tf.argmin(m1, axis = 1) # row axis\n",
    "with tf.Session():\n",
    "    print(arg_min.eval())"
   ]
  },
  {
   "cell_type": "markdown",
   "metadata": {},
   "source": [
    "<b>Result :</b> ```[0 1 0 1]``` returns the index value of the minimum integer value present in each row of the m1 tensor Or x matrix."
   ]
  },
  {
   "cell_type": "markdown",
   "metadata": {},
   "source": [
    "##### 1.2 tf.argmax\n",
    "Returns the index with the largest value across axes of a tensor. The ```tf.argmax``` signature is <br>\n",
    "<b>```tf.argmax(input, axis=None, name=None, dimension=None, output_type =tf.int64)```</b>"
   ]
  },
  {
   "cell_type": "code",
   "execution_count": 6,
   "metadata": {},
   "outputs": [
    {
     "name": "stdout",
     "output_type": "stream",
     "text": [
      "[3 2 3 0]\n"
     ]
    }
   ],
   "source": [
    "arg_max = tf.argmax(m1, axis = 1) # row axis\n",
    "with tf.Session():\n",
    "    print(arg_max.eval())"
   ]
  },
  {
   "cell_type": "markdown",
   "metadata": {},
   "source": [
    "<b>Result :</b> ```[3 2 3 0]``` returns the index value of the maximum integer value present in each row of the m1 tensor Or x matrix."
   ]
  },
  {
   "cell_type": "markdown",
   "metadata": {},
   "source": [
    "##### 1.3 tf.unique\n",
    "Finds unique elements in a 1-D tensor. ```tf.unique``` signature is <br>\n",
    "<b>```tf.unique(x, out_idx=tf.int32, name=None)```</b>"
   ]
  },
  {
   "cell_type": "code",
   "execution_count": 7,
   "metadata": {},
   "outputs": [
    {
     "name": "stdout",
     "output_type": "stream",
     "text": [
      "Unique value in m2 are  [39 87 46 88 81]\n",
      "Unique index in m2 are  [0 1 2 3 4]\n"
     ]
    }
   ],
   "source": [
    "unique_m2 = tf.unique(m2)\n",
    "\n",
    "with tf.Session() as session:\n",
    "    print(\"Unique value in m2 are \", session.run(unique_m2)[0])\n",
    "    print(\"Unique index in m2 are \", session.run(unique_m2)[1])"
   ]
  },
  {
   "cell_type": "markdown",
   "metadata": {},
   "source": [
    "<b>Result :</b> ```[39 87 46 88 81]``` returns the unique list of integers present in m2 tensor. And ```[0 1 2 3 4]``` returns the index values of those unique integers. As we see all the integers are unique and does not repeat itself, therefore the result listed them all."
   ]
  },
  {
   "cell_type": "markdown",
   "metadata": {},
   "source": [
    "##### 1.4 tf.setdiff1d\n",
    "Computes the difference between two lists of numbers or strings. <br>\n",
    "Given two lists, this operation returns a list out that represents all values that are in list1 but not in list2. The returned list out is sorted in the same order that the number appear in list1.This operation also returns a list index that represents the position of each out element in list1. <br>\n",
    "The ```tf.setdiff1d``` signature is <br>\n",
    "<b>```tf.setdiff1d(x, y, index_dtype=tf.int32, name=None```</b>"
   ]
  },
  {
   "cell_type": "code",
   "execution_count": 8,
   "metadata": {},
   "outputs": [
    {
     "name": "stdout",
     "output_type": "stream",
     "text": [
      "Setdiff values are  [39 87 46 88 81]\n",
      "Setdiff indexes are  [0 1 2 3 4]\n"
     ]
    }
   ],
   "source": [
    "diff = tf.setdiff1d(m2, m3)\n",
    "with tf.Session() as session:\n",
    "    print(\"Setdiff values are \", session.run(diff)[0])\n",
    "    print(\"Setdiff indexes are \", session.run(diff)[1])"
   ]
  },
  {
   "cell_type": "markdown",
   "metadata": {},
   "source": [
    "<b>Result :</b> ```[39 87 46 88 81]``` returns the list of integers which are in m2 tensor Or y list but not in m3 tensor Or z list. And ```[0 1 2 3 4]``` returns the index value of those integers."
   ]
  },
  {
   "cell_type": "markdown",
   "metadata": {},
   "source": [
    "##### 2. Reduction\n",
    "TensorFlow supports different kinds of reduction. Reduction is an operation that removes one or more dimensions from a tensor by performing certain operations across those dimensions."
   ]
  },
  {
   "cell_type": "code",
   "execution_count": 9,
   "metadata": {},
   "outputs": [
    {
     "name": "stdout",
     "output_type": "stream",
     "text": [
      "[[4 3 0]\n",
      " [3 5 0]\n",
      " [2 3 8]]\n"
     ]
    }
   ],
   "source": [
    "a = np.array(np.random.randint(low=10, size=[3, 3]))\n",
    "m4 = tf.convert_to_tensor(a)\n",
    "print(a)"
   ]
  },
  {
   "cell_type": "markdown",
   "metadata": {},
   "source": [
    "##### 2.1 tf.reduce_sum\n",
    "Compute the sum of elements across dimensions of a tensor. "
   ]
  },
  {
   "cell_type": "code",
   "execution_count": 10,
   "metadata": {},
   "outputs": [
    {
     "name": "stdout",
     "output_type": "stream",
     "text": [
      "Sum of all the integer values present in m4 tensor : 28\n",
      "Sum of all the integer values present in individual columns of m4 tensor : [ 9 11  8]\n",
      "Sum of all the integer values present in individual rows of m4 tensor : [ 7  8 13]\n"
     ]
    }
   ],
   "source": [
    "red_sum = tf.reduce_sum(m4)\n",
    "red_sum_0 = tf.reduce_sum(m4, axis=0)\n",
    "red_sum_1 = tf.reduce_sum(m4, axis=1)\n",
    "\n",
    "\n",
    "with tf.Session() as session:\n",
    "    print(\"Sum of all the integer values present in m4 tensor :\", session.run(red_sum))\n",
    "    print(\"Sum of all the integer values present in individual columns of m4 tensor :\",session.run(red_sum_0))\n",
    "    print(\"Sum of all the integer values present in individual rows of m4 tensor :\", session.run(red_sum_1))"
   ]
  },
  {
   "cell_type": "markdown",
   "metadata": {},
   "source": [
    "##### 2.2 tf.reduce_prod\n",
    "Computes the product of elements across dimensions of a tensor."
   ]
  },
  {
   "cell_type": "code",
   "execution_count": 11,
   "metadata": {},
   "outputs": [
    {
     "name": "stdout",
     "output_type": "stream",
     "text": [
      "Product of all the integer values present in m4 tensor : 0\n",
      "Product of all the integer values present in individual columns of m4 tensor : [24 45  0]\n",
      "Product of all the integer values present in individual rows of m4 tensor : [ 0  0 48]\n"
     ]
    }
   ],
   "source": [
    "red_prod = tf.reduce_prod(m4)\n",
    "red_prod_0 = tf.reduce_prod(m4, axis=0)\n",
    "red_prod_1 = tf.reduce_prod(m4, axis=1)\n",
    "with tf.Session() as session:\n",
    "    print(\"Product of all the integer values present in m4 tensor :\", session.run(red_prod))\n",
    "    print(\"Product of all the integer values present in individual columns of m4 tensor :\", session.run(red_prod_0))\n",
    "    print(\"Product of all the integer values present in individual rows of m4 tensor :\", session.run(red_prod_1))"
   ]
  },
  {
   "cell_type": "markdown",
   "metadata": {},
   "source": [
    "##### 2.3 tf.reduce_min\n",
    "Computes the minimum of elements across dimensions of a tensor."
   ]
  },
  {
   "cell_type": "code",
   "execution_count": 12,
   "metadata": {},
   "outputs": [
    {
     "name": "stdout",
     "output_type": "stream",
     "text": [
      "Minimum value among all the integer values in m4 tensor : 0\n",
      "Minimum value among all the integer values present in individual columns of m4 tensor : [2 3 0]\n",
      "Minimum value among all the integer values present in individual rows of m4 tensor : [0 0 2]\n"
     ]
    }
   ],
   "source": [
    "red_min = tf.reduce_min(m4)\n",
    "red_min_0 = tf.reduce_min(m4, axis=0)\n",
    "red_min_1 = tf.reduce_min(m4, axis=1)\n",
    "with tf.Session() as session:\n",
    "    print(\"Minimum value among all the integer values in m4 tensor :\", session.run(red_min))\n",
    "    print(\"Minimum value among all the integer values present in individual columns of m4 tensor :\", session.run(red_min_0))\n",
    "    print(\"Minimum value among all the integer values present in individual rows of m4 tensor :\", session.run(red_min_1))"
   ]
  },
  {
   "cell_type": "markdown",
   "metadata": {},
   "source": [
    "##### 2.4 tf.reduce_max\n",
    "Computes the maximum of elements across dimensions of a tensor."
   ]
  },
  {
   "cell_type": "code",
   "execution_count": 13,
   "metadata": {},
   "outputs": [
    {
     "name": "stdout",
     "output_type": "stream",
     "text": [
      "Maximum value among all the integer values in m4 tensor : 8\n",
      "Maximum value among all the integer values present in individual columns of m4 tensor : [4 5 8]\n",
      "Maximum value among all the integer values present in individual rows of m4 tensor [4 5 8]\n"
     ]
    }
   ],
   "source": [
    "red_max = tf.reduce_max(m4)\n",
    "red_max_0 = tf.reduce_max(m4, axis=0)\n",
    "red_max_1 = tf.reduce_max(m4, axis=1)\n",
    "with tf.Session() as session:\n",
    "    print(\"Maximum value among all the integer values in m4 tensor :\", session.run(red_max))\n",
    "    print(\"Maximum value among all the integer values present in individual columns of m4 tensor :\", session.run(red_max_0))\n",
    "    print(\"Maximum value among all the integer values present in individual rows of m4 tensor\", session.run(red_max_1))"
   ]
  },
  {
   "cell_type": "markdown",
   "metadata": {},
   "source": [
    "##### 2.5 tf.reduce_mean\n",
    "Computes the mean of elements across dimensions of a tensor."
   ]
  },
  {
   "cell_type": "code",
   "execution_count": 14,
   "metadata": {},
   "outputs": [
    {
     "name": "stdout",
     "output_type": "stream",
     "text": [
      "Mean of all the integer values present in m4 tensor : 3\n",
      "Mean of all the integer values present in individual columns of m4 tensor : [3 3 2]\n",
      "Mean of all the integer values present in individual rows of m4 tensor : [2 2 4]\n"
     ]
    }
   ],
   "source": [
    "red_mean = tf.reduce_mean(m4)\n",
    "red_mean_0 = tf.reduce_mean(m4, axis=0)\n",
    "red_mean_1 = tf.reduce_mean(m4, axis=1)\n",
    "with tf.Session() as session:\n",
    "    print(\"Mean of all the integer values present in m4 tensor :\", session.run(red_mean))\n",
    "    print(\"Mean of all the integer values present in individual columns of m4 tensor :\", session.run(red_mean_0))\n",
    "    print(\"Mean of all the integer values present in individual rows of m4 tensor :\", session.run(red_mean_1))"
   ]
  },
  {
   "cell_type": "markdown",
   "metadata": {},
   "source": [
    "#### Now you can play around with different input values."
   ]
  },
  {
   "cell_type": "code",
   "execution_count": null,
   "metadata": {
    "collapsed": true
   },
   "outputs": [],
   "source": []
  }
 ],
 "metadata": {
  "kernelspec": {
   "display_name": "Python 3",
   "language": "python",
   "name": "python3"
  },
  "language_info": {
   "codemirror_mode": {
    "name": "ipython",
    "version": 3
   },
   "file_extension": ".py",
   "mimetype": "text/x-python",
   "name": "python",
   "nbconvert_exporter": "python",
   "pygments_lexer": "ipython3",
   "version": "3.6.3"
  }
 },
 "nbformat": 4,
 "nbformat_minor": 2
}
