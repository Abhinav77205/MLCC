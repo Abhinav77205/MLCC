{
 "cells": [
  {
   "cell_type": "markdown",
   "metadata": {},
   "source": [
    "### Eager Execution"
   ]
  },
  {
   "cell_type": "markdown",
   "metadata": {},
   "source": [
    "In the past tutorials [Intro-To-TF-Part1](https://github.com/Praneet460/MLCC/blob/master/Day1/Intro-To-TF-Part1.ipynb), [Intro-To-TF-Part2](https://github.com/Praneet460/MLCC/blob/master/Day2/Intro-To-TF-Part2.ipynb), [Intro-To-TF-Part3](https://github.com/Praneet460/MLCC/blob/master/Day3/Intro-To-TF-Part3.ipynb), and [Intro-To-TF-Part4](https://github.com/Praneet460/MLCC/blob/master/Day4/Intro-To-TF-Part4.ipynb), we use ```session.run()``` command to display the result as output. But today we will see a new technique called <b>Eager Execution</b> to perform the same result."
   ]
  },
  {
   "cell_type": "markdown",
   "metadata": {},
   "source": [
    "<b>Eager Execution</b> is an experimental interface to TensorFlow that provides an imperative programming style. When you enable ```Eager execution```, TensorFlow operations execute immediately as they are called from Python. That means you do not execute a pre-constructed graph with ```Session.run()```. This allows for fast debugging and a more intuitive way to get started with TensorFlow."
   ]
  },
  {
   "cell_type": "markdown",
   "metadata": {},
   "source": [
    "Some things to note :\n",
    "* We enable eager at program startup using: ```tfe.enable_eager_execution()```.\n",
    "* Once we enable Eager with ```tfe.enable_eager_execution()```, it cannot be turned off. To get back to graph mode, start a new Python session."
   ]
  },
  {
   "cell_type": "markdown",
   "metadata": {},
   "source": [
    "Before we get started with Eager, let's see what happens when we define a simple operation in graph mode :"
   ]
  },
  {
   "cell_type": "code",
   "execution_count": 1,
   "metadata": {},
   "outputs": [
    {
     "name": "stderr",
     "output_type": "stream",
     "text": [
      "C:\\Users\\Praneet\\Anaconda3\\lib\\site-packages\\h5py\\__init__.py:34: FutureWarning: Conversion of the second argument of issubdtype from `float` to `np.floating` is deprecated. In future, it will be treated as `np.float64 == np.dtype(float).type`.\n",
      "  from ._conv import register_converters as _register_converters\n"
     ]
    },
    {
     "name": "stdout",
     "output_type": "stream",
     "text": [
      "Tensor(\"Add:0\", shape=(), dtype=int32)\n"
     ]
    }
   ],
   "source": [
    "import tensorflow as tf\n",
    "\n",
    "print(tf.add(1, 2))"
   ]
  },
  {
   "cell_type": "markdown",
   "metadata": {},
   "source": [
    "This tells us that we are just building a computation graph "
   ]
  },
  {
   "cell_type": "code",
   "execution_count": null,
   "metadata": {
    "collapsed": true
   },
   "outputs": [],
   "source": []
  }
 ],
 "metadata": {
  "kernelspec": {
   "display_name": "Python 3",
   "language": "python",
   "name": "python3"
  },
  "language_info": {
   "codemirror_mode": {
    "name": "ipython",
    "version": 3
   },
   "file_extension": ".py",
   "mimetype": "text/x-python",
   "name": "python",
   "nbconvert_exporter": "python",
   "pygments_lexer": "ipython3",
   "version": "3.6.3"
  }
 },
 "nbformat": 4,
 "nbformat_minor": 2
}
