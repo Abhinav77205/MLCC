{
 "cells": [
  {
   "cell_type": "markdown",
   "metadata": {},
   "source": [
    "### Introduction To TensorFlow (Part-2)"
   ]
  },
  {
   "cell_type": "markdown",
   "metadata": {},
   "source": [
    "<p>In the last tutorial [Introduction To TensorFlow (Part-1)](https://github.com/Praneet460/MLCC/tree/master/Day1), we see how can we create our first tensor using TensorFlow library, and perform simple mathematical operations on it.</p>\n",
    "<p>Now, today we move a step forward and see how we can perform large matrix operations by creating tensor using TensorFlow library.</p> \n",
    "<p> But first, let's print <b>```Hello, TensorFlow```</b> using TF program."
   ]
  },
  {
   "cell_type": "code",
   "execution_count": 2,
   "metadata": {},
   "outputs": [
    {
     "name": "stdout",
     "output_type": "stream",
     "text": [
      "b'Hello, TensorFlow'\n"
     ]
    }
   ],
   "source": [
    "# Import required library\n",
    "import tensorflow as tf\n",
    "# Define a hello tensor as a tf.constant\n",
    "hello = tf.constant(value = \"Hello, TensorFlow\", name=\"hello\")\n",
    "\n",
    "with tf.Session():\n",
    "    print(hello.eval()) # Shorthand for session.run(hello)"
   ]
  },
  {
   "cell_type": "markdown",
   "metadata": {},
   "source": [
    "<b>Note:</b> For interactive environments of Python such as IPython, TensorFlow offers <i>tf.InteractiveSession()</i> class. An <i>InteractiveSession</i> installs itself as the default session on construction."
   ]
  },
  {
   "cell_type": "markdown",
   "metadata": {},
   "source": [
    "#### 1. Matrix Operations"
   ]
  },
  {
   "cell_type": "markdown",
   "metadata": {},
   "source": [
    "<p>Matrix operations are very important for machine learning models, like linear regression, as they are often used in them. TensorFlow supports all the most common matrix operations, like <b>multiplication</b>, <b>transposing</b>, <b>inversion</b>, calculating the <b>determinant</b>, solving linear equations, and many more.\n",
    "<p>We will see some of the matrix operations in below code.</p>"
   ]
  },
  {
   "cell_type": "markdown",
   "metadata": {},
   "source": [
    "##### 1.1 Sum of Matrices"
   ]
  },
  {
   "cell_type": "code",
   "execution_count": 3,
   "metadata": {},
   "outputs": [
    {
     "name": "stdout",
     "output_type": "stream",
     "text": [
      "Tensor(\"matrix_sum:0\", dtype=int32)\n",
      "\n",
      "\n",
      "Matrix Sum:\n",
      "  [[6 6]\n",
      " [7 9]]\n"
     ]
    }
   ],
   "source": [
    "# declare two matrices\n",
    "matrix_1 = tf.constant(value = [[5, 6], [7, 8]], name=\"matrix_1\")\n",
    "matrix_2 = tf.placeholder(dtype = tf.int32, name=\"matrix_2\")\n",
    "\n",
    "# add two matrices\n",
    "matrix_sum = tf.add(matrix_1, matrix_2, name=\"matrix_sum\")\n",
    "\n",
    "print(matrix_sum)\n",
    "print(\"\\n\")\n",
    "data = {matrix_2:[[1, 0], [0, 1]]}\n",
    "with tf.Session():\n",
    "    print(\"Matrix Sum:\\n \",matrix_sum.eval(feed_dict=data)) # Shorthand of session.run(matrix_sum)"
   ]
  },
  {
   "cell_type": "markdown",
   "metadata": {},
   "source": [
    "By performing the print operation we see the <i>shape of the matrix as (2, 2) i.e. matrix of two rows and two columns</i>"
   ]
  },
  {
   "cell_type": "markdown",
   "metadata": {},
   "source": [
    "##### 1.2 Matrix Substraction"
   ]
  },
  {
   "cell_type": "code",
   "execution_count": 4,
   "metadata": {},
   "outputs": [
    {
     "name": "stdout",
     "output_type": "stream",
     "text": [
      "Tensor(\"matrix_subtract:0\", dtype=int32)\n",
      "\n",
      "\n",
      "Matrix Substraction:\n",
      "  [[4 6]\n",
      " [7 7]]\n"
     ]
    }
   ],
   "source": [
    "# subtract two matrices\n",
    "matrix_subtract = tf.subtract(matrix_1, matrix_2, name = \"matrix_subtract\")\n",
    "print(matrix_subtract)\n",
    "print(\"\\n\")\n",
    "with tf.Session():\n",
    "    print(\"Matrix Substraction:\\n \", matrix_subtract.eval(feed_dict=data))"
   ]
  },
  {
   "cell_type": "markdown",
   "metadata": {},
   "source": [
    "##### 1.3 Matrix Multiplication"
   ]
  },
  {
   "cell_type": "code",
   "execution_count": 5,
   "metadata": {},
   "outputs": [
    {
     "name": "stdout",
     "output_type": "stream",
     "text": [
      "Tensor(\"matrix_multiply:0\", dtype=int32)\n",
      "\n",
      "\n",
      "Matrix Multiplication:\n",
      " [[5 0]\n",
      " [0 8]]\n"
     ]
    }
   ],
   "source": [
    "# multiply two matrices\n",
    "matrix_multiply = tf.multiply(matrix_1, matrix_2, name=\"matrix_multiply\")\n",
    "print(matrix_multiply)\n",
    "print(\"\\n\")\n",
    "with tf.Session():\n",
    "    print(\"Matrix Multiplication:\\n\", matrix_multiply.eval(feed_dict=data))"
   ]
  },
  {
   "cell_type": "markdown",
   "metadata": {},
   "source": [
    "##### 1.4 Other Operations"
   ]
  },
  {
   "cell_type": "markdown",
   "metadata": {},
   "source": [
    "<p> We can also build a tensor in TensorFlow, by building an n-dimensional array, using the <i>NumPy library</i>.</p>"
   ]
  },
  {
   "cell_type": "markdown",
   "metadata": {},
   "source": [
    "<img src=\"./toptal-blog-image-1511963425442-3f44d6949afc736c80540aaa8f3010fe.png\", width=600px/>"
   ]
  },
  {
   "cell_type": "markdown",
   "metadata": {},
   "source": [
    "TensorFlow documentation uses three types of naming conventions to describe the dimension of a tensor: \n",
    "<i>Shape, Rank, Dimension Number</i>.\n",
    "\n",
    "| Shape | Rank | Dimension Number |\n",
    "| ----- | ---- | ---------------- |\n",
    "| [] | 0 | 0-D |\n",
    "| [D0] | 1 | 1-D |\n",
    "| [D0, D1] | 2 | 2-D |\n",
    "| [D0, D1, D2] | 3 | 3-D |\n",
    "| ... | ... | ... |\n",
    "| [D0, D1,...Dn] | n | n-D |"
   ]
  },
  {
   "cell_type": "markdown",
   "metadata": {},
   "source": [
    "```np.array(np.random.rand(4, 4), dtype=\"float32```\n",
    "<p> Creates an array of specified shape (here we choose (4, 4) i.e. matrix of four rows and four columns), and fills it with random values. The dtype of these random values can be choosen by the developer (here we used float variables).</p>"
   ]
  },
  {
   "cell_type": "code",
   "execution_count": 6,
   "metadata": {},
   "outputs": [
    {
     "name": "stdout",
     "output_type": "stream",
     "text": [
      "tensor_2d =\n",
      " [[0.86002785 0.36571753 0.7546187  0.51489544]\n",
      " [0.3573146  0.19200735 0.21573171 0.38958412]\n",
      " [0.2877666  0.22709753 0.983846   0.87522113]\n",
      " [0.37957066 0.04572455 0.98757714 0.3252972 ]]\n",
      "\n",
      "\n",
      "tensor_2d_1 =\n",
      " [[0.6773021  0.90501666 0.82431215 0.8910955 ]\n",
      " [0.6784532  0.7202955  0.9806261  0.8049164 ]\n",
      " [0.7592084  0.6598808  0.22947343 0.62349814]\n",
      " [0.01079291 0.35728124 0.7932897  0.32645345]]\n",
      "\n",
      "\n",
      "tensor_2d_2 =\n",
      " [[0.3389765  0.3347393  0.66157264 0.8993362 ]\n",
      " [0.5016733  0.6963868  0.5138224  0.36361024]\n",
      " [0.12495915 0.30130488 0.07929565 0.25612524]\n",
      " [0.70759165 0.58971745 0.65954655 0.5627197 ]]\n"
     ]
    }
   ],
   "source": [
    "# Import the required library\n",
    "import numpy as np\n",
    "\n",
    "# Creating a 2-d tensor, or matrix\n",
    "tensor_2d = np.array(np.random.rand(4, 4), dtype=\"float32\")\n",
    "tensor_2d_1 = np.array(np.random.rand(4, 4), dtype=\"float32\")\n",
    "tensor_2d_2 = np.array(np.random.rand(4, 4), dtype=\"float32\")\n",
    "\n",
    "\n",
    "# look out the matrices\n",
    "print(\"tensor_2d =\\n\", tensor_2d)\n",
    "print(\"\\n\")\n",
    "print(\"tensor_2d_1 =\\n\", tensor_2d_1)\n",
    "print(\"\\n\")\n",
    "print(\"tensor_2d_2 =\\n\", tensor_2d_2)"
   ]
  },
  {
   "cell_type": "markdown",
   "metadata": {},
   "source": [
    "<p>A NumPy array generated above can be easily converted into a TensorFlow tensor with the auxiliary function <b><i>convert_to_tensor</i></b>, which helps developers convert Python objects to tensor objects. The signature of the convert_to_tensorflow is:</p>\n",
    "<b>tf.convert_to_tensor(value, dtype=None, name=None, preferred_dtype=None)</b>"
   ]
  },
  {
   "cell_type": "code",
   "execution_count": 7,
   "metadata": {},
   "outputs": [
    {
     "name": "stdout",
     "output_type": "stream",
     "text": [
      "mat_1:\n",
      " Tensor(\"Const:0\", shape=(4, 4), dtype=float32)\n",
      "mat_2:\n",
      " Tensor(\"Const_1:0\", shape=(4, 4), dtype=float32)\n",
      "mat_3:\n",
      " Tensor(\"Const_2:0\", shape=(4, 4), dtype=float32)\n"
     ]
    }
   ],
   "source": [
    "# converting the array into tensor\n",
    "mat_1 = tf.convert_to_tensor(value = tensor_2d)\n",
    "mat_2 = tf.convert_to_tensor(value = tensor_2d_1)\n",
    "mat_3 = tf.convert_to_tensor(value = tensor_2d_2)\n",
    "\n",
    "print(\"mat_1:\\n\", mat_1)\n",
    "print(\"mat_2:\\n\", mat_2)\n",
    "print(\"mat_3:\\n\", mat_3)"
   ]
  },
  {
   "cell_type": "code",
   "execution_count": 8,
   "metadata": {},
   "outputs": [
    {
     "name": "stdout",
     "output_type": "stream",
     "text": [
      "[[0.86002785 0.3573146  0.2877666  0.37957066]\n",
      " [0.36571753 0.19200735 0.22709753 0.04572455]\n",
      " [0.7546187  0.21573171 0.983846   0.98757714]\n",
      " [0.51489544 0.38958412 0.87522113 0.3252972 ]]\n"
     ]
    }
   ],
   "source": [
    "# transpose of the matrix\n",
    "mat_transpose = tf.transpose(mat_1)\n",
    "with tf.Session():\n",
    "    print(mat_transpose.eval())"
   ]
  },
  {
   "cell_type": "code",
   "execution_count": 9,
   "metadata": {},
   "outputs": [
    {
     "name": "stdout",
     "output_type": "stream",
     "text": [
      "[[1.4090909  1.7236851  1.6491897  1.6993318 ]\n",
      " [0.540268   0.743226   0.84138393 0.7346407 ]\n",
      " [1.1053703  1.3859322  1.3799777  1.3383671 ]\n",
      " [1.0413938  1.1443589  0.842401   1.0969851 ]]\n"
     ]
    }
   ],
   "source": [
    "# matrix multiplication\n",
    "mat_multiply = tf.matmul(mat_1, mat_2)\n",
    "with tf.Session():\n",
    "    print(mat_multiply.eval())"
   ]
  },
  {
   "cell_type": "code",
   "execution_count": 10,
   "metadata": {},
   "outputs": [
    {
     "name": "stdout",
     "output_type": "stream",
     "text": [
      "0.02082361\n"
     ]
    }
   ],
   "source": [
    "# Matrix determinant\n",
    "mat_determinant = tf.matrix_determinant(mat_3)\n",
    "with tf.Session():\n",
    "    print(mat_determinant.eval())"
   ]
  },
  {
   "cell_type": "code",
   "execution_count": 11,
   "metadata": {},
   "outputs": [
    {
     "name": "stdout",
     "output_type": "stream",
     "text": [
      "[[-1.9602551  -3.976771    1.9052688   4.8353305 ]\n",
      " [-0.20148619  2.6364808   1.40408    -2.0206647 ]\n",
      " [ 1.7190953   3.940957   -6.0178866  -2.5548856 ]\n",
      " [ 0.66117585 -2.3814573   3.1861575   0.809013  ]]\n"
     ]
    }
   ],
   "source": [
    "# Matrix inverse\n",
    "mat_inverse = tf.matrix_inverse(mat_3)\n",
    "with tf.Session():\n",
    "    print(mat_inverse.eval())"
   ]
  },
  {
   "cell_type": "code",
   "execution_count": 12,
   "metadata": {},
   "outputs": [
    {
     "name": "stdout",
     "output_type": "stream",
     "text": [
      "[[ 0.8035729]\n",
      " [ 1.8184097]\n",
      " [-2.9127197]\n",
      " [ 2.274889 ]]\n"
     ]
    }
   ],
   "source": [
    "# Matrix solve\n",
    "mat_solve = tf.matrix_solve(mat_3, [[1], [1], [1], [1]])\n",
    "with tf.Session():\n",
    "    print(mat_solve.eval())"
   ]
  },
  {
   "cell_type": "markdown",
   "metadata": {},
   "source": [
    "##### 1.5 Sequential Operations\n",
    "<p>Result of multiplication of mat_1 by itself, is added with the result of multiplication of mat_1 by matrix(4x4) of all ones's</p> "
   ]
  },
  {
   "cell_type": "code",
   "execution_count": 13,
   "metadata": {},
   "outputs": [
    {
     "name": "stdout",
     "output_type": "stream",
     "text": [
      "[[3.7781768 3.0749226 4.474077  3.908514 ]\n",
      " [1.7405005 1.3889866 2.0626874 1.7289641]\n",
      " [3.3178902 2.7862253 4.4723787 3.7563643]\n",
      " [2.488614  2.1249151 3.327345  2.921589 ]]\n"
     ]
    }
   ],
   "source": [
    "result = tf.matmul(mat_1, mat_1) + tf.matmul(mat_1, tf.ones([4, 4], dtype=\"float32\"))\n",
    "with tf.Session():\n",
    "    print(result.eval())"
   ]
  },
  {
   "cell_type": "markdown",
   "metadata": {},
   "source": [
    "### Now, you can create your own matrix and play arround with it by using different matrix operations"
   ]
  },
  {
   "cell_type": "markdown",
   "metadata": {
    "collapsed": true
   },
   "source": [
    "#### Some common operations:"
   ]
  },
  {
   "cell_type": "markdown",
   "metadata": {},
   "source": [
    "| Operation | Description |\n",
    "| --------- | ----------- |\n",
    "| <b>tf.diag</b> | returns a diagonal tensor with a given diagonal values |\n",
    "| <b>tf.transpose</b> | returns the transpose of the argument |\n",
    "| <b>tf.matmul</b> | returns a tensor product of multiplying two tensors listed as arguments |\n",
    "| <b>tf.matrix_determinant</b> | returns the determinant of the square matrix specified as an argument |\n",
    "| <b>tf.matrix_inverse</b> | returns the inverse of the square matrix specified as an argument |"
   ]
  },
  {
   "cell_type": "markdown",
   "metadata": {
    "collapsed": true
   },
   "source": [
    "<b>Common operations with tensors</b>"
   ]
  },
  {
   "cell_type": "markdown",
   "metadata": {
    "collapsed": true
   },
   "source": [
    "| Operation | Description |\n",
    "| --------- | ----------- |\n",
    "| <b>tf.shape</b> | To find a shape of a tensor |\n",
    "| <b>tf.size</b> | To find the size of a tensor |\n",
    "| <b>tf.rank</b> | To find a rank of a tensor |\n",
    "| <b>tf.reshape</b> | To change the shape of a tensor keeping the same elements contained |\n",
    "| <b>tf.squeeze</b> | To delete in a tensor dimensions of size 1 |\n",
    "| <b>tf.expand_dims</b> | To insert a dimension to a tensor |\n",
    "| <b>tf.slice</b> | To remove a portions of a tensor |\n",
    "| <b>tf.split</b> | To divide a tensor into several tensors along one dimension |\n",
    "| <b>tf.tile</b> | To create a new tensor replicating a tensor multiple times |\n",
    "| <b>tf.concat</b> | To concatenate tensors in one dimension |\n",
    "| <b>tf.reverse</b> | To reverse a specific dimension of a tensor |\n",
    "| <b>tf.transpose</b> | To transpose  dimensions in a tensor |\n",
    "| <b>tf.gather</b> | To collect portions according to an index |"
   ]
  },
  {
   "cell_type": "code",
   "execution_count": null,
   "metadata": {
    "collapsed": true
   },
   "outputs": [],
   "source": []
  }
 ],
 "metadata": {
  "kernelspec": {
   "display_name": "Python 3",
   "language": "python",
   "name": "python3"
  },
  "language_info": {
   "codemirror_mode": {
    "name": "ipython",
    "version": 3
   },
   "file_extension": ".py",
   "mimetype": "text/x-python",
   "name": "python",
   "nbconvert_exporter": "python",
   "pygments_lexer": "ipython3",
   "version": "3.6.3"
  }
 },
 "nbformat": 4,
 "nbformat_minor": 2
}
