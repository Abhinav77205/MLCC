{
 "cells": [
  {
   "cell_type": "markdown",
   "metadata": {},
   "source": [
    "### Common Mathematical Operations "
   ]
  },
  {
   "cell_type": "markdown",
   "metadata": {},
   "source": [
    "Let's see what are some of the common mathematical operations we can perform with tensors."
   ]
  },
  {
   "cell_type": "markdown",
   "metadata": {},
   "source": [
    "| Opeartion | Description |\n",
    "| --------- | ----------- |\n",
    "| <b>tf.add</b> | sum |\n",
    "| <b>tf.subtract</b> | substraction |\n",
    "| <b>tf.multiply</b> | multiplication |\n",
    "| <b>tf.divide</b> | division |\n",
    "| <b>tf.mod</b> | module |\n",
    "| <b>tf.abs</b> | return the absolute value |\n",
    "| <b>tf.negative</b> | return the negative value | \n",
    "| <b>tf.sign</b> | return the sign |\n",
    "| <b>tf.square</b> | calculates the square |\n",
    "| <b>tf.round</b> | returns the nearest integer |\n",
    "| <b>tf.sqrt</b> | calculates the square root |\n",
    "| <b>tf.pow</b> | calculates the power |\n",
    "| <b>tf.exp</b> | calculates the exponential |\n",
    "| <b>tf.log</b> | calculates the logarithm |\n",
    "| <b>tf.maximum</b> | returns the maximum |\n",
    "| <b>tf.minimum</b> | returns the minimum |\n",
    "| <b>tf.cos</b> | calculates the cosine |\n",
    "| <b>tf.sin</b> | calculates the sine |"
   ]
  },
  {
   "cell_type": "markdown",
   "metadata": {},
   "source": [
    "#### 1. Import required libraries"
   ]
  },
  {
   "cell_type": "markdown",
   "metadata": {},
   "source": [
    "Use the following import convention"
   ]
  },
  {
   "cell_type": "code",
   "execution_count": 2,
   "metadata": {},
   "outputs": [
    {
     "name": "stdout",
     "output_type": "stream",
     "text": [
      "Tensorflow version  1.12.0\n",
      "Numpy version  1.15.4\n"
     ]
    }
   ],
   "source": [
    "import tensorflow as tf\n",
    "import numpy as np\n",
    "np.random.seed(0)\n",
    "print(\"Tensorflow version \", tf.__version__)\n",
    "print(\"Numpy version \", np.__version__)"
   ]
  },
  {
   "cell_type": "markdown",
   "metadata": {},
   "source": [
    "#### 2. Create tensors"
   ]
  },
  {
   "cell_type": "code",
   "execution_count": 3,
   "metadata": {
    "collapsed": true
   },
   "outputs": [],
   "source": [
    "a = tf.placeholder(dtype=tf.float32, name = \"a\")\n",
    "b = tf.placeholder(dtype=tf.float32, name = \"b\")"
   ]
  },
  {
   "cell_type": "code",
   "execution_count": 4,
   "metadata": {
    "collapsed": true,
    "scrolled": true
   },
   "outputs": [],
   "source": [
    "# defining the session\n",
    "sess = tf.InteractiveSession()"
   ]
  },
  {
   "cell_type": "markdown",
   "metadata": {},
   "source": [
    "#### 3. Sum"
   ]
  },
  {
   "cell_type": "code",
   "execution_count": 5,
   "metadata": {},
   "outputs": [
    {
     "name": "stdout",
     "output_type": "stream",
     "text": [
      "Sum of 45 and 48 is 93.0\n"
     ]
    }
   ],
   "source": [
    "add = tf.add(a, b, name=\"add\")\n",
    "a1 = np.random.randint(low=1, high=100)\n",
    "b1 = np.random.randint(low=1, high=100)\n",
    "data = {a: a1, b: b1}\n",
    "print(\"Sum of {} and {} is {}\".format(a1, b1, add.eval(feed_dict = data)))"
   ]
  },
  {
   "cell_type": "markdown",
   "metadata": {},
   "source": [
    "#### 4. Substraction"
   ]
  },
  {
   "cell_type": "code",
   "execution_count": 6,
   "metadata": {},
   "outputs": [
    {
     "name": "stdout",
     "output_type": "stream",
     "text": [
      "Subtraction of 45 from 48 is -3.0\n"
     ]
    }
   ],
   "source": [
    "sub = tf.subtract(a, b, name=\"sub\")\n",
    "print(\"Subtraction of {} from {} is {}\".format(a1, b1, sub.eval(feed_dict = data)))"
   ]
  },
  {
   "cell_type": "markdown",
   "metadata": {},
   "source": [
    "#### 5. Multiplication"
   ]
  },
  {
   "cell_type": "code",
   "execution_count": 7,
   "metadata": {},
   "outputs": [
    {
     "name": "stdout",
     "output_type": "stream",
     "text": [
      "Multiplication of 45 and 48 is 2160.0\n"
     ]
    }
   ],
   "source": [
    "mult = tf.multiply(a, b, name=\"mult\")\n",
    "print(\"Multiplication of {} and {} is {}\".format(a1, b1, mult.eval(feed_dict = data)))"
   ]
  },
  {
   "cell_type": "markdown",
   "metadata": {},
   "source": [
    "#### 6. Division"
   ]
  },
  {
   "cell_type": "code",
   "execution_count": 8,
   "metadata": {},
   "outputs": [
    {
     "name": "stdout",
     "output_type": "stream",
     "text": [
      "Division of 45 from 48 is 0.9375\n"
     ]
    }
   ],
   "source": [
    "div = tf.divide(a, b, name=\"div\")\n",
    "print(\"Division of {} from {} is {}\".format(a1, b1, div.eval(feed_dict = data)))"
   ]
  },
  {
   "cell_type": "markdown",
   "metadata": {},
   "source": [
    "#### 7. Module"
   ]
  },
  {
   "cell_type": "code",
   "execution_count": 9,
   "metadata": {},
   "outputs": [
    {
     "name": "stdout",
     "output_type": "stream",
     "text": [
      "Modulus of 45 and 48 is 45.0\n"
     ]
    }
   ],
   "source": [
    "mod = tf.mod(a, b, name=\"mod\")\n",
    "print(\"Modulus of {} and {} is {}\".format(a1, b1, mod.eval(feed_dict = data)))"
   ]
  },
  {
   "cell_type": "markdown",
   "metadata": {},
   "source": [
    "#### 8. Absolute Value"
   ]
  },
  {
   "cell_type": "code",
   "execution_count": 10,
   "metadata": {},
   "outputs": [
    {
     "name": "stdout",
     "output_type": "stream",
     "text": [
      "Absolute value of -45 is 45.0\n"
     ]
    }
   ],
   "source": [
    "ab = tf.abs(a, name=\"ab\")\n",
    "print(\"Absolute value of {} is {}\".format(-a1, ab.eval(feed_dict={a: -a1})))"
   ]
  },
  {
   "cell_type": "markdown",
   "metadata": {},
   "source": [
    "#### 9. Negative Value"
   ]
  },
  {
   "cell_type": "code",
   "execution_count": 11,
   "metadata": {},
   "outputs": [
    {
     "name": "stdout",
     "output_type": "stream",
     "text": [
      "Negative value of 45 is -45.0\n"
     ]
    }
   ],
   "source": [
    "neg = tf.negative(a, name=\"neg\")\n",
    "print(\"Negative value of {} is {}\".format(a1, neg.eval(feed_dict={a: a1})))"
   ]
  },
  {
   "cell_type": "markdown",
   "metadata": {},
   "source": [
    "#### 10. Sign"
   ]
  },
  {
   "cell_type": "code",
   "execution_count": 12,
   "metadata": {},
   "outputs": [
    {
     "name": "stdout",
     "output_type": "stream",
     "text": [
      "Sign of 45 is 1.0\n"
     ]
    }
   ],
   "source": [
    "sign = tf.sign(a, name=\"sign\")\n",
    "print(\"Sign of {} is {}\".format(a1, sign.eval(feed_dict={a: a1}))) # 1 if x>0; 0 if x=0; -1 if x<0"
   ]
  },
  {
   "cell_type": "markdown",
   "metadata": {},
   "source": [
    "#### 11. Square"
   ]
  },
  {
   "cell_type": "code",
   "execution_count": 13,
   "metadata": {},
   "outputs": [
    {
     "name": "stdout",
     "output_type": "stream",
     "text": [
      "Square of 45 is 2025.0\n"
     ]
    }
   ],
   "source": [
    "sqr = tf.square(a, name=\"sqr\")\n",
    "print(\"Square of {} is {}\".format(a1, sqr.eval(feed_dict={a: a1})))"
   ]
  },
  {
   "cell_type": "markdown",
   "metadata": {},
   "source": [
    "#### 12. Round"
   ]
  },
  {
   "cell_type": "code",
   "execution_count": 14,
   "metadata": {},
   "outputs": [
    {
     "name": "stdout",
     "output_type": "stream",
     "text": [
      "Round value of 0.7151893663724195 is 1.0\n"
     ]
    }
   ],
   "source": [
    "rund = tf.round(a, name=\"rund\")\n",
    "a2 = np.random.random_sample()\n",
    "print(\"Round value of {} is {}\".format(a2, rund.eval(feed_dict={a: a2})))"
   ]
  },
  {
   "cell_type": "markdown",
   "metadata": {},
   "source": [
    "#### 13. Square root"
   ]
  },
  {
   "cell_type": "code",
   "execution_count": 15,
   "metadata": {},
   "outputs": [
    {
     "name": "stdout",
     "output_type": "stream",
     "text": [
      "Squre root of 45 is 6.7082037925720215\n"
     ]
    }
   ],
   "source": [
    "sqrt = tf.sqrt(a, name=\"sqrt\")\n",
    "print(\"Squre root of {} is {}\".format(a1, sqrt.eval(feed_dict={a: a1})))"
   ]
  },
  {
   "cell_type": "markdown",
   "metadata": {},
   "source": [
    "#### 14. Power"
   ]
  },
  {
   "cell_type": "code",
   "execution_count": 16,
   "metadata": {},
   "outputs": [
    {
     "name": "stdout",
     "output_type": "stream",
     "text": [
      "4 to the power 4 is 256.0\n"
     ]
    }
   ],
   "source": [
    "powr = tf.pow(a, b, name=\"powr\")\n",
    "a3 = np.random.randint(low=1, high=10)\n",
    "b3 = np.random.randint(low=1, high=10)\n",
    "data_powr = {a: a3, b: b3}\n",
    "print(\"{} to the power {} is {}\".format(a3, b3, powr.eval(feed_dict=data_powr)))"
   ]
  },
  {
   "cell_type": "markdown",
   "metadata": {},
   "source": [
    "#### 15. Exponential"
   ]
  },
  {
   "cell_type": "code",
   "execution_count": 17,
   "metadata": {},
   "outputs": [
    {
     "name": "stdout",
     "output_type": "stream",
     "text": [
      "Exponential of 4 is 54.598148345947266\n"
     ]
    }
   ],
   "source": [
    "exp = tf.exp(a, name=\"exp\")\n",
    "print(\"Exponential of {} is {}\".format(a3, exp.eval(feed_dict={a: a3})))"
   ]
  },
  {
   "cell_type": "markdown",
   "metadata": {},
   "source": [
    "#### 16. Logarithm"
   ]
  },
  {
   "cell_type": "code",
   "execution_count": 18,
   "metadata": {},
   "outputs": [
    {
     "name": "stdout",
     "output_type": "stream",
     "text": [
      "Log of 4 to the base e is 1.3862943649291992\n"
     ]
    }
   ],
   "source": [
    "log = tf.log(a, name=\"log\")\n",
    "print(\"Log of {} to the base e is {}\".format(a3, log.eval(feed_dict={a: a3})))"
   ]
  },
  {
   "cell_type": "markdown",
   "metadata": {},
   "source": [
    "#### 17. Maximum"
   ]
  },
  {
   "cell_type": "code",
   "execution_count": 19,
   "metadata": {},
   "outputs": [
    {
     "name": "stdout",
     "output_type": "stream",
     "text": [
      "Maximum value between 45 and 48 is 48.0\n"
     ]
    }
   ],
   "source": [
    "maxi = tf.maximum(a, b, name=\"maxi\")\n",
    "print(\"Maximum value between {} and {} is {}\".format(a1, b1, maxi.eval(feed_dict=data)))"
   ]
  },
  {
   "cell_type": "markdown",
   "metadata": {},
   "source": [
    "#### 18. Minimum"
   ]
  },
  {
   "cell_type": "code",
   "execution_count": 20,
   "metadata": {},
   "outputs": [
    {
     "name": "stdout",
     "output_type": "stream",
     "text": [
      "Minimum value between 45 and 48 is 45.0\n"
     ]
    }
   ],
   "source": [
    "mini =tf.minimum(a, b, name=\"mini\")\n",
    "print(\"Minimum value between {} and {} is {}\".format(a1, b1, mini.eval(feed_dict=data)))"
   ]
  },
  {
   "cell_type": "markdown",
   "metadata": {},
   "source": [
    "#### 19. Cosine"
   ]
  },
  {
   "cell_type": "code",
   "execution_count": 21,
   "metadata": {},
   "outputs": [
    {
     "name": "stdout",
     "output_type": "stream",
     "text": [
      "Cosine of 45 is 0.5253220200538635\n"
     ]
    }
   ],
   "source": [
    "cos = tf.cos(a, name=\"cos\")\n",
    "print(\"Cosine of {} is {}\".format(a1, cos.eval(feed_dict={a: a1})))"
   ]
  },
  {
   "cell_type": "markdown",
   "metadata": {},
   "source": [
    "#### 20. Sine"
   ]
  },
  {
   "cell_type": "code",
   "execution_count": 22,
   "metadata": {},
   "outputs": [
    {
     "name": "stdout",
     "output_type": "stream",
     "text": [
      "Sine of 45 is 0.8509035110473633\n"
     ]
    }
   ],
   "source": [
    "sin = tf.sin(a, name=\"sin\")\n",
    "print(\"Sine of {} is {}\".format(a1, sin.eval(feed_dict={a: a1})))"
   ]
  },
  {
   "cell_type": "markdown",
   "metadata": {},
   "source": [
    "#### These operations are sufficient for you to move on."
   ]
  },
  {
   "cell_type": "code",
   "execution_count": null,
   "metadata": {
    "collapsed": true
   },
   "outputs": [],
   "source": []
  }
 ],
 "metadata": {
  "kernelspec": {
   "display_name": "Python 3",
   "language": "python",
   "name": "python3"
  },
  "language_info": {
   "codemirror_mode": {
    "name": "ipython",
    "version": 3
   },
   "file_extension": ".py",
   "mimetype": "text/x-python",
   "name": "python",
   "nbconvert_exporter": "python",
   "pygments_lexer": "ipython3",
   "version": "3.6.3"
  }
 },
 "nbformat": 4,
 "nbformat_minor": 2
}
