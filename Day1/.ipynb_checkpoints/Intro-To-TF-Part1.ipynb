{
 "cells": [
  {
   "cell_type": "markdown",
   "metadata": {},
   "source": [
    "## Introduction to TensorFlow (Part-1)"
   ]
  },
  {
   "cell_type": "markdown",
   "metadata": {},
   "source": [
    "<b>TensorFlow</b> is an open source software library created by <b>Google</b> extensively used in machine learning and deep learning systems. Here we'll learn how computations are represented and how to create your first tensor in a TensorFlow model."
   ]
  },
  {
   "cell_type": "markdown",
   "metadata": {},
   "source": [
    "#### 1.Import required libraries "
   ]
  },
  {
   "cell_type": "code",
   "execution_count": 2,
   "metadata": {},
   "outputs": [
    {
     "name": "stderr",
     "output_type": "stream",
     "text": [
      "C:\\Users\\Praneet\\Anaconda3\\lib\\site-packages\\h5py\\__init__.py:34: FutureWarning: Conversion of the second argument of issubdtype from `float` to `np.floating` is deprecated. In future, it will be treated as `np.float64 == np.dtype(float).type`.\n",
      "  from ._conv import register_converters as _register_converters\n"
     ]
    }
   ],
   "source": [
    "import tensorflow as tf\n",
    "import numpy as np\n",
    "import matplotlib.pyplot as plt"
   ]
  },
  {
   "cell_type": "markdown",
   "metadata": {},
   "source": [
    "#### 2. Create Tensor"
   ]
  },
  {
   "cell_type": "markdown",
   "metadata": {},
   "source": [
    "Tensorflow handles the flow of Tensors (data). You can think of a Tensor as a multidimensional array."
   ]
  },
  {
   "cell_type": "markdown",
   "metadata": {},
   "source": [
    "<img src=\"./add-graph.png\"/>"
   ]
  },
  {
   "cell_type": "markdown",
   "metadata": {},
   "source": [
    "In TensorFlow, constants are created using the function constant(used below as <i>tf.constant</i>), which has the signature </br>\n",
    "<b><i>constant(value, dtype=None, shape=None, name=\"Const\", verify_shape=False)</i></b>, where\n",
    "* <b>value</b> is an actual constant value which will be used in further computation\n",
    "* <b>dtype</b> is the data type parameter (e.g. <i>float32/64, int8/16,</i> etc.)\n",
    "* <b>shape</b> is an optional dimensions\n",
    "* <b>name</b> is an optional name for the tensor\n",
    "* <b>verify_shape</b> is a boolean which indicates verification of the shape of values."
   ]
  },
  {
   "cell_type": "code",
   "execution_count": 3,
   "metadata": {},
   "outputs": [
    {
     "name": "stdout",
     "output_type": "stream",
     "text": [
      "Tensor(\"c:0\", shape=(), dtype=int32)\n"
     ]
    }
   ],
   "source": [
    "# Create nodes in a graph\n",
    "a = tf.constant(15, name=\"a\")\n",
    "b = tf.constant(61, name=\"b\")\n",
    "\n",
    "# add them\n",
    "c = tf.add(a, b, name=\"c\")\n",
    "print(c)"
   ]
  },
  {
   "cell_type": "markdown",
   "metadata": {},
   "source": [
    "<b>Notice</b> that the output is still an abstract Tensor -- we have just created a computation graph consisting of operations. To actually get our result, we have to run a <b>session</b> (A session encapsulates the control  and state of the TensorFlow runtime.) to execute the graph."
   ]
  },
  {
   "cell_type": "code",
   "execution_count": 6,
   "metadata": {},
   "outputs": [
    {
     "name": "stdout",
     "output_type": "stream",
     "text": [
      "76\n"
     ]
    }
   ],
   "source": [
    "with tf.Session() as session:\n",
    "    print (session.run(c))"
   ]
  },
  {
   "cell_type": "markdown",
   "metadata": {},
   "source": [
    "<p>Similar, as adding, you can perform other mathematical operations on tensors as well, like substraction, multiplication or division.</p>"
   ]
  },
  {
   "cell_type": "code",
   "execution_count": 12,
   "metadata": {},
   "outputs": [
    {
     "name": "stdout",
     "output_type": "stream",
     "text": [
      "-46\n"
     ]
    }
   ],
   "source": [
    "# subtract them\n",
    "z = tf.subtract(a, b, name=\"z\")\n",
    "with tf.Session() as session:\n",
    "    print(session.run(z))"
   ]
  },
  {
   "cell_type": "code",
   "execution_count": 13,
   "metadata": {},
   "outputs": [
    {
     "name": "stdout",
     "output_type": "stream",
     "text": [
      "915\n"
     ]
    }
   ],
   "source": [
    "# multiply them\n",
    "y = tf.multiply(a, b, name=\"y\")\n",
    "with tf.Session() as session:\n",
    "    print(session.run(y))"
   ]
  },
  {
   "cell_type": "code",
   "execution_count": 14,
   "metadata": {},
   "outputs": [
    {
     "name": "stdout",
     "output_type": "stream",
     "text": [
      "0.2459016393442623\n"
     ]
    }
   ],
   "source": [
    "# divide them\n",
    "x = tf.divide(a, b, name=\"x\")\n",
    "with tf.Session() as session:\n",
    "    print(session.run(x))"
   ]
  },
  {
   "cell_type": "markdown",
   "metadata": {},
   "source": [
    "#### 3. Building and Executing the Computation Graph"
   ]
  },
  {
   "cell_type": "markdown",
   "metadata": {},
   "source": [
    "Consider the following computation graph:"
   ]
  },
  {
   "cell_type": "markdown",
   "metadata": {},
   "source": [
    "<img src=\"./computation-graph.png\"/>"
   ]
  },
  {
   "cell_type": "markdown",
   "metadata": {},
   "source": [
    "This graph takes 2 inputs, a, b and computes as output e. Each node in the graph is an operation that takes some input, does some computation, and passes its output to another node."
   ]
  },
  {
   "cell_type": "markdown",
   "metadata": {},
   "source": [
    "TensorFlow uses <b><i>tf.placeholder</i></b> to handle inputs to the model. It lets you specify that some input will be coming in, of some shape and some type. <i>It allow developers to inject data into the computation graph.</i> The signature of the placeholder is:</br>\n",
    "<b><i>placeholder(dtype, shape=None, name=None)</i></b>"
   ]
  },
  {
   "cell_type": "code",
   "execution_count": 18,
   "metadata": {},
   "outputs": [
    {
     "name": "stdout",
     "output_type": "stream",
     "text": [
      "18.0\n"
     ]
    }
   ],
   "source": [
    "# define inputs\n",
    "a = tf.placeholder(tf.float32)\n",
    "b = tf.placeholder(tf.float32)\n",
    "\n",
    "# c = a+b\n",
    "c = tf.add(a, b, name=\"c\")\n",
    "# d = b-1\n",
    "d = tf.subtract(b, 1, name=\"d\")\n",
    "# e = c*d\n",
    "e = tf.multiply(c, d, name=\"e\")\n",
    "\n",
    "with tf.Session() as session:\n",
    "    print(session.run(e, feed_dict={a:2.0, b:4.0}))"
   ]
  },
  {
   "cell_type": "markdown",
   "metadata": {},
   "source": [
    "We used <b><i>feed_dict</i></b> to pass in the input data of tensor <i>a</i> and tensor <i>b</i>."
   ]
  },
  {
   "cell_type": "markdown",
   "metadata": {},
   "source": [
    "### Now you can create your own tensor and play around with more mathematical computation."
   ]
  },
  {
   "cell_type": "code",
   "execution_count": null,
   "metadata": {
    "collapsed": true
   },
   "outputs": [],
   "source": []
  }
 ],
 "metadata": {
  "kernelspec": {
   "display_name": "Python 3",
   "language": "python",
   "name": "python3"
  },
  "language_info": {
   "codemirror_mode": {
    "name": "ipython",
    "version": 3
   },
   "file_extension": ".py",
   "mimetype": "text/x-python",
   "name": "python",
   "nbconvert_exporter": "python",
   "pygments_lexer": "ipython3",
   "version": "3.6.3"
  }
 },
 "nbformat": 4,
 "nbformat_minor": 2
}
